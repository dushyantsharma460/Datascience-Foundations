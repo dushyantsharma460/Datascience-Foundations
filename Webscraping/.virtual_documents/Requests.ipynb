import requests


a = requests.get("https://books.toscrape.com")


# Printing all html text of this site
# a.text


# Scrap this website html in my folder

for i in range(1, 51):
    a = requests.get(f"https://books.toscrape.com/catalogue/page-{i}.html")
    with open(f"htmls/page{i}.html", "w", encoding="utf-8") as f:
        f.write(a.text)
        print(f"Downloaded page {i} successfully")
