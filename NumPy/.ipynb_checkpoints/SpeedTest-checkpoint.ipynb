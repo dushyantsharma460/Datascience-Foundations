{
 "cells": [
  {
   "cell_type": "code",
   "execution_count": 7,
   "id": "61f8cc4b-5a4f-43d6-9ce9-15403cf3931f",
   "metadata": {},
   "outputs": [
    {
     "data": {
      "text/plain": [
       "[(1, 6), (2, 7), (4, 8)]"
      ]
     },
     "execution_count": 7,
     "metadata": {},
     "output_type": "execute_result"
    }
   ],
   "source": [
    "# Python Zip Explained\n",
    "\n",
    "l1 = [1, 2, 4]\n",
    "l2 = [6, 7, 8]\n",
    "\n",
    "list(zip(l1,l2))   # Only zip give a zip object so need to convert this into list"
   ]
  },
  {
   "cell_type": "code",
   "execution_count": 1,
   "id": "a50d2910-64f1-4bed-8898-bd873ba1b59d",
   "metadata": {},
   "outputs": [
    {
     "name": "stdout",
     "output_type": "stream",
     "text": [
      "[ 0  2  4  6  8 10 12 14 16 18]\n",
      "0.024903535842895508\n"
     ]
    }
   ],
   "source": [
    "# Using Numpy Arrays\n",
    "import numpy as np\n",
    "import time \n",
    "\n",
    "size = 1_000_000_0\n",
    "\n",
    "l1 = np.array(list(range(size)))\n",
    "l2 = np.array(list(range(size)))\n",
    "\n",
    "start = time.time()\n",
    "add = l1 + l2\n",
    "end = time.time()\n",
    "print(add[0:10])\n",
    "\n",
    "print(end-start)\n"
   ]
  },
  {
   "cell_type": "code",
   "execution_count": 2,
   "id": "ec1a4cd2-268d-4450-9550-8966a749adbb",
   "metadata": {},
   "outputs": [
    {
     "name": "stdout",
     "output_type": "stream",
     "text": [
      "[0, 2, 4, 6, 8, 10, 12, 14, 16, 18]\n",
      "0.7166378498077393\n"
     ]
    }
   ],
   "source": [
    "# Using Python List\n",
    "import numpy as np\n",
    "import time \n",
    "\n",
    "size = 1_000_000_0\n",
    "\n",
    "l1 = list(range(size))\n",
    "l2 = list(range(size))\n",
    "\n",
    "start = time.time()\n",
    "add = [x+y for x,y in zip(l1,l2)]\n",
    "end = time.time()\n",
    "print(add[0:10])\n",
    "\n",
    "print(end-start)"
   ]
  },
  {
   "cell_type": "code",
   "execution_count": 15,
   "id": "63fc2e1d-4c3b-4883-bac6-09a8acd395c1",
   "metadata": {},
   "outputs": [
    {
     "data": {
      "text/plain": [
       "array(['1', '2', '3', '4', '5', '6', '7', 'dushyant'], dtype='<U21')"
      ]
     },
     "execution_count": 15,
     "metadata": {},
     "output_type": "execute_result"
    }
   ],
   "source": [
    "# Try to use only Number Arrays as Numpy is effienient only for Number Array\n",
    "\n",
    "np.array([1, 2, 3, 4, 5, 6, 7, 8])          # Make ensure that the array is of Number (For better optimisation)\n",
    "np.array([1, 2, 3, 4, 5, 6, 7, \"dushyant\"])   # Here the dtype is unicode string array "
   ]
  },
  {
   "cell_type": "code",
   "execution_count": 17,
   "id": "142267d1-1995-4f4c-a055-b03a7fa158ed",
   "metadata": {},
   "outputs": [
    {
     "data": {
      "text/plain": [
       "array([[1, 2, 3],\n",
       "       [4, 5, 6]])"
      ]
     },
     "execution_count": 17,
     "metadata": {},
     "output_type": "execute_result"
    }
   ],
   "source": [
    "# You can't be able to make jacked 2D Array\n",
    "np.array([[1, 2, 3],[4, 5, 6]])"
   ]
  }
 ],
 "metadata": {
  "kernelspec": {
   "display_name": "Python [conda env:base] *",
   "language": "python",
   "name": "conda-base-py"
  },
  "language_info": {
   "codemirror_mode": {
    "name": "ipython",
    "version": 3
   },
   "file_extension": ".py",
   "mimetype": "text/x-python",
   "name": "python",
   "nbconvert_exporter": "python",
   "pygments_lexer": "ipython3",
   "version": "3.13.5"
  }
 },
 "nbformat": 4,
 "nbformat_minor": 5
}
