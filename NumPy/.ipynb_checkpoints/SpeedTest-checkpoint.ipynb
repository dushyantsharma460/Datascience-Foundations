{
 "cells": [
  {
   "cell_type": "code",
   "execution_count": 1,
   "id": "61f8cc4b-5a4f-43d6-9ce9-15403cf3931f",
   "metadata": {},
   "outputs": [
    {
     "data": {
      "text/plain": [
       "[(1, 6), (2, 7), (4, 8)]"
      ]
     },
     "execution_count": 1,
     "metadata": {},
     "output_type": "execute_result"
    }
   ],
   "source": [
    "# Python Zip Explained\n",
    "\n",
    "l1 = [1, 2, 4]\n",
    "l2 = [6, 7, 8]\n",
    "\n",
    "list(zip(l1,l2))   # Only zip give a zip object so need to convert this into list"
   ]
  },
  {
   "cell_type": "code",
   "execution_count": 2,
   "id": "a50d2910-64f1-4bed-8898-bd873ba1b59d",
   "metadata": {},
   "outputs": [
    {
     "name": "stdout",
     "output_type": "stream",
     "text": [
      "[ 0  2  4  6  8 10 12 14 16 18]\n",
      "0.0359041690826416\n"
     ]
    }
   ],
   "source": [
    "# Using Numpy Arrays\n",
    "import numpy as np\n",
    "import time \n",
    "\n",
    "size = 1_000_000_0\n",
    "\n",
    "l1 = np.array(list(range(size)))\n",
    "l2 = np.array(list(range(size)))\n",
    "\n",
    "start = time.time()\n",
    "add = l1 + l2\n",
    "end = time.time()\n",
    "print(add[0:10])\n",
    "\n",
    "print(end-start)\n"
   ]
  },
  {
   "cell_type": "code",
   "execution_count": 3,
   "id": "ec1a4cd2-268d-4450-9550-8966a749adbb",
   "metadata": {},
   "outputs": [
    {
     "name": "stdout",
     "output_type": "stream",
     "text": [
      "[0, 2, 4, 6, 8, 10, 12, 14, 16, 18]\n",
      "0.5749301910400391\n"
     ]
    }
   ],
   "source": [
    "# Using Python List\n",
    "import numpy as np\n",
    "import time \n",
    "\n",
    "size = 1_000_000_0\n",
    "\n",
    "l1 = list(range(size))\n",
    "l2 = list(range(size))\n",
    "\n",
    "start = time.time()\n",
    "add = [x+y for x,y in zip(l1,l2)]\n",
    "end = time.time()\n",
    "print(add[0:10])\n",
    "\n",
    "print(end-start)"
   ]
  },
  {
   "cell_type": "code",
   "execution_count": 4,
   "id": "63fc2e1d-4c3b-4883-bac6-09a8acd395c1",
   "metadata": {},
   "outputs": [
    {
     "data": {
      "text/plain": [
       "array(['1', '2', '3', '4', '5', '6', '7', 'dushyant'], dtype='<U21')"
      ]
     },
     "execution_count": 4,
     "metadata": {},
     "output_type": "execute_result"
    }
   ],
   "source": [
    "# Try to use only Number Arrays as Numpy is effienient only for Number Array\n",
    "\n",
    "np.array([1, 2, 3, 4, 5, 6, 7, 8])          # Make ensure that the array is of Number (For better optimisation)\n",
    "np.array([1, 2, 3, 4, 5, 6, 7, \"dushyant\"])   # Here the dtype is unicode string array "
   ]
  },
  {
   "cell_type": "code",
   "execution_count": 5,
   "id": "142267d1-1995-4f4c-a055-b03a7fa158ed",
   "metadata": {},
   "outputs": [
    {
     "data": {
      "text/plain": [
       "array([[1, 2, 3],\n",
       "       [4, 5, 6]])"
      ]
     },
     "execution_count": 5,
     "metadata": {},
     "output_type": "execute_result"
    }
   ],
   "source": [
    "# You can't be able to make jacked 2D Array\n",
    "np.array([[1, 2, 3],[4, 5, 6]])"
   ]
  },
  {
   "cell_type": "code",
   "execution_count": 6,
   "id": "762ff506-dc6b-4f7a-97eb-cece4288b28a",
   "metadata": {},
   "outputs": [
    {
     "name": "stdout",
     "output_type": "stream",
     "text": [
      "Python list size: 8056000 bytes\n",
      "NumPy array size: 8000 bytes\n"
     ]
    }
   ],
   "source": [
    "import sys\n",
    "list_data = list(range(1000))\n",
    "numpy_data = np.array(list_data)\n",
    "print(\"Python list size:\", sys.getsizeof(list_data) * len(list_data), \"bytes\")\n",
    "print(\"NumPy array size:\", numpy_data.nbytes, \"bytes\")"
   ]
  },
  {
   "cell_type": "code",
   "execution_count": 7,
   "id": "4343b375-9e5f-489e-9dca-52ed33b90aef",
   "metadata": {},
   "outputs": [
    {
     "name": "stdout",
     "output_type": "stream",
     "text": [
      "List takes time 0.07513737678527832 \n"
     ]
    }
   ],
   "source": [
    "import time\n",
    "size = 1_000_000\n",
    "\n",
    "l1 = list(range(size))\n",
    "\n",
    "start = time.time()\n",
    "list_squares = [x ** 2 for x in l1]\n",
    "end = time.time()\n",
    "print(f\"List takes time {end - start} \")"
   ]
  },
  {
   "cell_type": "code",
   "execution_count": 8,
   "id": "0cd875cb-bb43-4fe5-a9c5-94bc13534d7d",
   "metadata": {},
   "outputs": [
    {
     "name": "stdout",
     "output_type": "stream",
     "text": [
      "Numpy vectorization takes time 0.002984762191772461 \n"
     ]
    }
   ],
   "source": [
    "# NumPy is mainly made for numerical computations. So possible arr1**2\n",
    "import time\n",
    "import numpy as np\n",
    "\n",
    "size = 1_000_000\n",
    "\n",
    "arr1 = np.array(range(size))\n",
    "\n",
    "start = time.time()\n",
    "numpy_square = arr1 ** 2   \n",
    "end = time.time()\n",
    "\n",
    "print(f\"Numpy vectorization takes time {end - start} \")"
   ]
  },
  {
   "cell_type": "code",
   "execution_count": 9,
   "id": "88ebede6-390c-4fbf-ae2f-87ffe41f049a",
   "metadata": {
    "scrolled": true
   },
   "outputs": [
    {
     "name": "stdout",
     "output_type": "stream",
     "text": [
      "[ 10  11  12  13  14  15  16  17  18  19  20  21  22  23  24  25  26  27\n",
      "  28  29  30  31  32  33  34  35  36  37  38  39  40  41  42  43  44  45\n",
      "  46  47  48  49  50  51  52  53  54  55  56  57  58  59  60  61  62  63\n",
      "  64  65  66  67  68  69  70  71  72  73  74  75  76  77  78  79  80  81\n",
      "  82  83  84  85  86  87  88  89  90  91  92  93  94  95  96  97  98  99\n",
      " 100]\n",
      "(91,)\n"
     ]
    }
   ],
   "source": [
    "# Create a NumPy array with values from 10 to 100 and print its shape.\n",
    "arr = np.arange(10, 101)\n",
    "print(arr)\n",
    "print(arr.shape)"
   ]
  },
  {
   "cell_type": "code",
   "execution_count": 10,
   "id": "fd2ec62b-3157-4d74-86c2-3d76b319d41f",
   "metadata": {},
   "outputs": [
    {
     "name": "stdout",
     "output_type": "stream",
     "text": [
      "Memory size in bytes: 8000000\n"
     ]
    }
   ],
   "source": [
    "# Find the memory size of a NumPy array with 1 million elements.\n",
    "import numpy as np\n",
    "\n",
    "arr = np.arange(1_000_000)\n",
    "print(\"Memory size in bytes:\", arr.nbytes)\n"
   ]
  }
 ],
 "metadata": {
  "kernelspec": {
   "display_name": "Python [conda env:base] *",
   "language": "python",
   "name": "conda-base-py"
  },
  "language_info": {
   "codemirror_mode": {
    "name": "ipython",
    "version": 3
   },
   "file_extension": ".py",
   "mimetype": "text/x-python",
   "name": "python",
   "nbconvert_exporter": "python",
   "pygments_lexer": "ipython3",
   "version": "3.13.5"
  }
 },
 "nbformat": 4,
 "nbformat_minor": 5
}
