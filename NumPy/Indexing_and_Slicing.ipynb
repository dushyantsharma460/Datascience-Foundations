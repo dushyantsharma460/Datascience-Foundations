{
 "cells": [
  {
   "cell_type": "code",
   "execution_count": 1,
   "id": "8389e66b-3db5-4c73-ad07-97e4a59486b7",
   "metadata": {},
   "outputs": [],
   "source": [
    "import numpy as np\n",
    "arr = np.array([[1, 2, 3],[4, 5, 6],[7, 8, 9]])"
   ]
  },
  {
   "cell_type": "code",
   "execution_count": 2,
   "id": "aac8e33a-63f8-4ee4-a25a-2c29cb9b904c",
   "metadata": {},
   "outputs": [
    {
     "data": {
      "text/plain": [
       "array([[1, 2, 3],\n",
       "       [4, 5, 6],\n",
       "       [7, 8, 9]])"
      ]
     },
     "execution_count": 2,
     "metadata": {},
     "output_type": "execute_result"
    }
   ],
   "source": [
    "arr"
   ]
  },
  {
   "cell_type": "code",
   "execution_count": 3,
   "id": "f6f7f5a2-222a-4962-ad78-eac6d61b705d",
   "metadata": {},
   "outputs": [],
   "source": [
    "flat = arr.flatten()"
   ]
  },
  {
   "cell_type": "code",
   "execution_count": 4,
   "id": "6c5b9570-8e30-4819-ae06-f98651659139",
   "metadata": {},
   "outputs": [
    {
     "data": {
      "text/plain": [
       "array([1, 2, 3, 4, 5, 6, 7, 8, 9])"
      ]
     },
     "execution_count": 4,
     "metadata": {},
     "output_type": "execute_result"
    }
   ],
   "source": [
    "flat"
   ]
  },
  {
   "cell_type": "code",
   "execution_count": 5,
   "id": "760d0370-7a93-4174-a00f-b3e190d0c12f",
   "metadata": {},
   "outputs": [
    {
     "data": {
      "text/plain": [
       "np.int64(1)"
      ]
     },
     "execution_count": 5,
     "metadata": {},
     "output_type": "execute_result"
    }
   ],
   "source": [
    "flat[0]"
   ]
  },
  {
   "cell_type": "code",
   "execution_count": 6,
   "id": "c684f004-ebbf-457c-83ad-574b68e0045d",
   "metadata": {},
   "outputs": [
    {
     "data": {
      "text/plain": [
       "np.int64(9)"
      ]
     },
     "execution_count": 6,
     "metadata": {},
     "output_type": "execute_result"
    }
   ],
   "source": [
    "flat[8]"
   ]
  },
  {
   "cell_type": "code",
   "execution_count": 7,
   "id": "af062464-d89d-4148-a479-ee706059838a",
   "metadata": {},
   "outputs": [
    {
     "data": {
      "text/plain": [
       "array([1, 2, 3])"
      ]
     },
     "execution_count": 7,
     "metadata": {},
     "output_type": "execute_result"
    }
   ],
   "source": [
    "flat[0:3]"
   ]
  },
  {
   "cell_type": "code",
   "execution_count": 8,
   "id": "fbb5b671-f1b6-4545-ba2f-d02188504ae8",
   "metadata": {},
   "outputs": [
    {
     "data": {
      "text/plain": [
       "array([1, 2, 3, 4, 5])"
      ]
     },
     "execution_count": 8,
     "metadata": {},
     "output_type": "execute_result"
    }
   ],
   "source": [
    "flat[:5]         # Same as flat[0:5]"
   ]
  },
  {
   "cell_type": "code",
   "execution_count": 9,
   "id": "249039c6-cf7b-452c-bf69-1411bc8d497f",
   "metadata": {},
   "outputs": [
    {
     "data": {
      "text/plain": [
       "array([4, 5, 6, 7, 8, 9])"
      ]
     },
     "execution_count": 9,
     "metadata": {},
     "output_type": "execute_result"
    }
   ],
   "source": [
    "flat[3:]         # Same as flat[3:9]"
   ]
  },
  {
   "cell_type": "code",
   "execution_count": 10,
   "id": "da28ecf8-f29d-418f-88ba-e0f64f3c5e20",
   "metadata": {},
   "outputs": [
    {
     "data": {
      "text/plain": [
       "array([1, 3, 5, 7, 9])"
      ]
     },
     "execution_count": 10,
     "metadata": {},
     "output_type": "execute_result"
    }
   ],
   "source": [
    "flat[::2]         # Every second element"
   ]
  },
  {
   "cell_type": "code",
   "execution_count": 11,
   "id": "a1585213-c9d6-4cb9-990c-af5b56a4f5f6",
   "metadata": {},
   "outputs": [],
   "source": [
    "# Slicing returns a view, not a copy! Changes affect the original array.\n",
    "\n",
    "slice_123 = flat[0:3]"
   ]
  },
  {
   "cell_type": "code",
   "execution_count": 12,
   "id": "1b6304d7-4f84-4344-821d-8d267710927b",
   "metadata": {},
   "outputs": [
    {
     "data": {
      "text/plain": [
       "array([1, 2, 3])"
      ]
     },
     "execution_count": 12,
     "metadata": {},
     "output_type": "execute_result"
    }
   ],
   "source": [
    "slice_123"
   ]
  },
  {
   "cell_type": "code",
   "execution_count": 13,
   "id": "e6763348-8f61-42d1-bf79-77194b48994f",
   "metadata": {},
   "outputs": [],
   "source": [
    "slice_123[2] = 333"
   ]
  },
  {
   "cell_type": "code",
   "execution_count": 14,
   "id": "5f0c61fd-5cbe-4c7d-94bb-2b6781eae8e7",
   "metadata": {},
   "outputs": [
    {
     "data": {
      "text/plain": [
       "array([  1,   2, 333])"
      ]
     },
     "execution_count": 14,
     "metadata": {},
     "output_type": "execute_result"
    }
   ],
   "source": [
    "slice_123"
   ]
  },
  {
   "cell_type": "code",
   "execution_count": 15,
   "id": "f24f5def-a3c7-472b-8f49-a87561b54dde",
   "metadata": {},
   "outputs": [
    {
     "data": {
      "text/plain": [
       "array([  1,   2, 333,   4,   5,   6,   7,   8,   9])"
      ]
     },
     "execution_count": 15,
     "metadata": {},
     "output_type": "execute_result"
    }
   ],
   "source": [
    "# Numpy refer same memory location\n",
    "flat\n"
   ]
  },
  {
   "cell_type": "code",
   "execution_count": 16,
   "id": "8a280421-fe10-42cf-9a45-437935bafea8",
   "metadata": {},
   "outputs": [],
   "source": [
    "# If you want to make copy of flat use copy method\n",
    "copy_arr = flat[0:3].copy()"
   ]
  },
  {
   "cell_type": "code",
   "execution_count": 17,
   "id": "f210c669-fd7a-45c2-a372-800190e52763",
   "metadata": {},
   "outputs": [
    {
     "data": {
      "text/plain": [
       "array([  1,   2, 333])"
      ]
     },
     "execution_count": 17,
     "metadata": {},
     "output_type": "execute_result"
    }
   ],
   "source": [
    "copy_arr"
   ]
  },
  {
   "cell_type": "code",
   "execution_count": 18,
   "id": "a3463de4-8d67-406c-a8f4-74af56fa4e02",
   "metadata": {},
   "outputs": [],
   "source": [
    "copy_arr[2] = 444"
   ]
  },
  {
   "cell_type": "code",
   "execution_count": 19,
   "id": "15ec3075-891b-4d79-baf2-e85eab531294",
   "metadata": {},
   "outputs": [
    {
     "data": {
      "text/plain": [
       "array([  1,   2, 444])"
      ]
     },
     "execution_count": 19,
     "metadata": {},
     "output_type": "execute_result"
    }
   ],
   "source": [
    "copy_arr"
   ]
  },
  {
   "cell_type": "code",
   "execution_count": 20,
   "id": "0397ea54-df56-4694-a772-313a4b1995c2",
   "metadata": {},
   "outputs": [
    {
     "data": {
      "text/plain": [
       "array([  1,   2, 333,   4,   5,   6,   7,   8,   9])"
      ]
     },
     "execution_count": 20,
     "metadata": {},
     "output_type": "execute_result"
    }
   ],
   "source": [
    "flat"
   ]
  },
  {
   "cell_type": "code",
   "execution_count": 21,
   "id": "2508f000-b0dc-4376-a858-a040eba864d5",
   "metadata": {},
   "outputs": [],
   "source": [
    "new_arr = np.array([1, 43, 54, 65, 45, 64, 23, 63])"
   ]
  },
  {
   "cell_type": "code",
   "execution_count": 22,
   "id": "e516315f-9881-4d92-9c28-3b6e4d439c0e",
   "metadata": {},
   "outputs": [
    {
     "data": {
      "text/plain": [
       "array([65, 64, 63])"
      ]
     },
     "execution_count": 22,
     "metadata": {},
     "output_type": "execute_result"
    }
   ],
   "source": [
    "# Fancy Indexing\n",
    "new_arr[[3,5,7]]       # Extract 60's line Number by passing the list"
   ]
  },
  {
   "cell_type": "code",
   "execution_count": 23,
   "id": "859f2283-1139-4a29-bb0d-245218f38893",
   "metadata": {},
   "outputs": [
    {
     "data": {
      "text/plain": [
       "array([ 1, 43, 45, 23])"
      ]
     },
     "execution_count": 23,
     "metadata": {},
     "output_type": "execute_result"
    }
   ],
   "source": [
    "# Boolean Masking\n",
    "new_arr[new_arr < 50]"
   ]
  },
  {
   "cell_type": "code",
   "execution_count": 24,
   "id": "eb125e96-91a3-4883-92b1-863deba9cb21",
   "metadata": {},
   "outputs": [
    {
     "data": {
      "text/plain": [
       "array([ 1, 43, 54, 65, 45, 64, 23, 63])"
      ]
     },
     "execution_count": 24,
     "metadata": {},
     "output_type": "execute_result"
    }
   ],
   "source": [
    "new_arr"
   ]
  },
  {
   "cell_type": "code",
   "execution_count": 25,
   "id": "4966bfe3-2f21-4654-a458-5484d6c0bd38",
   "metadata": {},
   "outputs": [
    {
     "name": "stdout",
     "output_type": "stream",
     "text": [
      "Array:\n",
      " [[9.20570768 9.6150928  3.86801793]\n",
      " [3.64514705 1.15713043 5.97563306]\n",
      " [8.34625331 1.15844783 8.15021964]]\n",
      "Shape: (3, 3)\n"
     ]
    }
   ],
   "source": [
    "# Create a 3×3 array with random numbers\n",
    "random_array = np.random.rand(3, 3) * 10 + 1\n",
    "\n",
    "print(\"Array:\\n\", random_array)\n",
    "print(\"Shape:\", random_array.shape)"
   ]
  },
  {
   "cell_type": "code",
   "execution_count": 26,
   "id": "d39210e2-8e92-4b86-9744-aa3823e3ae98",
   "metadata": {},
   "outputs": [
    {
     "data": {
      "text/plain": [
       "8.422605315991484"
      ]
     },
     "execution_count": 26,
     "metadata": {},
     "output_type": "execute_result"
    }
   ],
   "source": [
    "random_num = np.random.rand() * 10 + 1\n",
    "random_num"
   ]
  },
  {
   "cell_type": "code",
   "execution_count": 27,
   "id": "1dd7da98-a92a-4d22-b0ab-7d9b64cf9813",
   "metadata": {},
   "outputs": [],
   "source": [
    "float_arr = np.array([1.1, 2.2, 3.3])"
   ]
  },
  {
   "cell_type": "code",
   "execution_count": 28,
   "id": "ebca496c-eb05-487d-8d6e-5d91c700939d",
   "metadata": {},
   "outputs": [],
   "source": [
    "int_arr = float_arr.astype('int32')"
   ]
  },
  {
   "cell_type": "code",
   "execution_count": null,
   "id": "d8b07e1b-f90b-4e43-b2dc-bb44dfccdc7e",
   "metadata": {},
   "outputs": [],
   "source": []
  }
 ],
 "metadata": {
  "kernelspec": {
   "display_name": "Python [conda env:base] *",
   "language": "python",
   "name": "conda-base-py"
  },
  "language_info": {
   "codemirror_mode": {
    "name": "ipython",
    "version": 3
   },
   "file_extension": ".py",
   "mimetype": "text/x-python",
   "name": "python",
   "nbconvert_exporter": "python",
   "pygments_lexer": "ipython3",
   "version": "3.13.5"
  }
 },
 "nbformat": 4,
 "nbformat_minor": 5
}
