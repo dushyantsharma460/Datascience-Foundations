{
 "cells": [
  {
   "cell_type": "code",
   "execution_count": 1,
   "id": "983d8383-dae2-4258-9710-5226fa0decbc",
   "metadata": {},
   "outputs": [
    {
     "name": "stdout",
     "output_type": "stream",
     "text": [
      "[ 1  4  9 16 25]\n"
     ]
    }
   ],
   "source": [
    "# Vectorized operation\n",
    "\n",
    "import numpy as np\n",
    "\n",
    "arr = np.array([1, 2, 3, 4, 5])\n",
    "result = arr ** 2\n",
    "print(result)"
   ]
  },
  {
   "cell_type": "code",
   "execution_count": 2,
   "id": "cce85396-09c5-4088-98f4-2ffb34904aa6",
   "metadata": {},
   "outputs": [
    {
     "name": "stdout",
     "output_type": "stream",
     "text": [
      "[11 12 13 14 15]\n"
     ]
    }
   ],
   "source": [
    "# Broadcasting: 10 is added to all elements\n",
    "\n",
    "arr = np.array([1, 2, 3, 4, 5])\n",
    "result = arr + 10\n",
    "print(result)"
   ]
  },
  {
   "cell_type": "code",
   "execution_count": 3,
   "id": "ae143aed-c28b-46bd-93cf-32c09c65336f",
   "metadata": {},
   "outputs": [
    {
     "name": "stdout",
     "output_type": "stream",
     "text": [
      "[[2 4 6]\n",
      " [5 7 9]]\n"
     ]
    }
   ],
   "source": [
    "# Broadcast 1 D array to 2 D\n",
    "\n",
    "arr1 = np.array([[1, 2, 3], [4, 5, 6]])    # Broadcasting arr2 across arr1\n",
    "arr2 = np.array([1, 2, 3])\n",
    "result = arr1 + arr2\n",
    "print(result)"
   ]
  },
  {
   "cell_type": "code",
   "execution_count": 4,
   "id": "d9241f7c-ba43-4a71-9686-59797da1cc3f",
   "metadata": {},
   "outputs": [
    {
     "name": "stdout",
     "output_type": "stream",
     "text": [
      "[20. 30. 40.]\n"
     ]
    }
   ],
   "source": [
    "# Example of Normalization\n",
    "\n",
    "# Simulating a dataset (5 samples, 3 features)\n",
    "\n",
    "data = np.array([\n",
    "    [10, 20, 30],\n",
    "    [15, 25, 35],\n",
    "    [20, 30, 40],\n",
    "    [25, 35, 45],\n",
    "    [30, 40, 50]\n",
    "])\n",
    "\n",
    "# Calculating mean for each feature (column)\n",
    "\n",
    "mean = data.mean(axis=0)\n",
    "\n",
    "print(mean)\n"
   ]
  },
  {
   "cell_type": "code",
   "execution_count": 5,
   "id": "80d01869-c650-4be5-9d53-375ee59cbb95",
   "metadata": {},
   "outputs": [
    {
     "name": "stdout",
     "output_type": "stream",
     "text": [
      "[7.07106781 7.07106781 7.07106781]\n"
     ]
    }
   ],
   "source": [
    "# Calculating standard deviation for each feature (column)\n",
    "\n",
    "# σ = sqrt( (1 / n) * Σ (xᵢ - μ)² )\n",
    "\n",
    "std = data.std(axis=0)         # population std\n",
    "\n",
    "print(std)"
   ]
  },
  {
   "cell_type": "code",
   "execution_count": 6,
   "id": "d0bd30d6-ea17-4fe4-9e20-0680ed569d4e",
   "metadata": {},
   "outputs": [
    {
     "name": "stdout",
     "output_type": "stream",
     "text": [
      "[7.90569415 7.90569415 7.90569415]\n"
     ]
    }
   ],
   "source": [
    "# Sample Std\n",
    "\n",
    "# s = sqrt( (1 / (n - 1)) * Σ (xᵢ - x̄)² )\n",
    "\n",
    "sample_std = data.std(axis=0,ddof=1)  # sample std\n",
    "\n",
    "print(sample_std)\n",
    "\n",
    "\n",
    "# Formula terms explanation:\n",
    "\n",
    "# xᵢ   = each data point\n",
    "# μ or x̄ = mean (average of all data points)\n",
    "# n    = number of data points\n",
    "# Σ    = sum over all data points\n",
    "# sqrt = square root"
   ]
  },
  {
   "cell_type": "code",
   "execution_count": 7,
   "id": "ab6010b9-4279-4cff-ab87-552aa1be3f3a",
   "metadata": {},
   "outputs": [
    {
     "name": "stdout",
     "output_type": "stream",
     "text": [
      "[[-1.41421356 -1.41421356 -1.41421356]\n",
      " [-0.70710678 -0.70710678 -0.70710678]\n",
      " [ 0.          0.          0.        ]\n",
      " [ 0.70710678  0.70710678  0.70710678]\n",
      " [ 1.41421356  1.41421356  1.41421356]]\n"
     ]
    }
   ],
   "source": [
    "# Normalizing the data using broadcasting\n",
    "\n",
    "normalized_data = (data - mean) / std\n",
    "\n",
    "print(normalized_data)"
   ]
  }
 ],
 "metadata": {
  "kernelspec": {
   "display_name": "Python 3",
   "language": "python",
   "name": "python3"
  },
  "language_info": {
   "codemirror_mode": {
    "name": "ipython",
    "version": 3
   },
   "file_extension": ".py",
   "mimetype": "text/x-python",
   "name": "python",
   "nbconvert_exporter": "python",
   "pygments_lexer": "ipython3",
   "version": "3.12.3"
  }
 },
 "nbformat": 4,
 "nbformat_minor": 5
}
