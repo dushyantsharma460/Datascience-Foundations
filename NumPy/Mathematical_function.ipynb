{
 "cells": [
  {
   "cell_type": "code",
   "execution_count": 1,
   "id": "480a03f1-e16b-4ccd-84b2-0db74265014c",
   "metadata": {},
   "outputs": [],
   "source": [
    "import numpy as np"
   ]
  },
  {
   "cell_type": "code",
   "execution_count": 2,
   "id": "afbd8a7d-39e8-4c0a-9d8f-719c55f033c5",
   "metadata": {},
   "outputs": [],
   "source": [
    "arr = np.array([3, 5, 12, 33])"
   ]
  },
  {
   "cell_type": "code",
   "execution_count": 3,
   "id": "cdcacef6-a7c7-4843-aa95-d784fda57768",
   "metadata": {},
   "outputs": [
    {
     "name": "stdout",
     "output_type": "stream",
     "text": [
      "13.25\n"
     ]
    }
   ],
   "source": [
    "print(np.mean(arr))"
   ]
  },
  {
   "cell_type": "code",
   "execution_count": 4,
   "id": "0d9fe1c2-31e8-414b-a00e-b0a381423f7e",
   "metadata": {},
   "outputs": [
    {
     "name": "stdout",
     "output_type": "stream",
     "text": [
      "3\n"
     ]
    }
   ],
   "source": [
    "print(np.min(arr))"
   ]
  },
  {
   "cell_type": "code",
   "execution_count": 5,
   "id": "f505ce42-64f7-47a1-b315-138733ee5781",
   "metadata": {},
   "outputs": [],
   "source": [
    "max = np.max(arr)"
   ]
  },
  {
   "cell_type": "code",
   "execution_count": 6,
   "id": "3dd4a4cd-4cfa-40e6-822e-075f26976140",
   "metadata": {},
   "outputs": [
    {
     "name": "stdout",
     "output_type": "stream",
     "text": [
      "33\n"
     ]
    }
   ],
   "source": [
    "print(max)"
   ]
  },
  {
   "cell_type": "code",
   "execution_count": 7,
   "id": "8ab4c217-1d5f-41a1-bc5f-9e9b96c6b800",
   "metadata": {},
   "outputs": [
    {
     "name": "stdout",
     "output_type": "stream",
     "text": [
      "11.882234638316145\n"
     ]
    }
   ],
   "source": [
    "print(np.std(arr))"
   ]
  },
  {
   "cell_type": "code",
   "execution_count": 8,
   "id": "3d067cd9-2569-4a04-ae09-d2bc4eb19cc9",
   "metadata": {},
   "outputs": [
    {
     "name": "stdout",
     "output_type": "stream",
     "text": [
      "141.1875\n"
     ]
    }
   ],
   "source": [
    "print(np.var(arr))"
   ]
  },
  {
   "cell_type": "code",
   "execution_count": 9,
   "id": "199723b0-3462-4795-89ee-c051f923def5",
   "metadata": {},
   "outputs": [
    {
     "name": "stdout",
     "output_type": "stream",
     "text": [
      "53\n"
     ]
    }
   ],
   "source": [
    "print(np.sum(arr))"
   ]
  },
  {
   "cell_type": "code",
   "execution_count": 10,
   "id": "733f33fc-0071-47aa-8240-8b497eec5961",
   "metadata": {},
   "outputs": [
    {
     "name": "stdout",
     "output_type": "stream",
     "text": [
      "5940\n"
     ]
    }
   ],
   "source": [
    "print(np.prod(arr))"
   ]
  },
  {
   "cell_type": "code",
   "execution_count": 11,
   "id": "2a7c06f2-47df-42ef-b350-98443468495f",
   "metadata": {},
   "outputs": [
    {
     "name": "stdout",
     "output_type": "stream",
     "text": [
      "33.0\n",
      "17.25\n"
     ]
    }
   ],
   "source": [
    "print(np.percentile(arr,100))  \n",
    "\n",
    "# 1. Sort the array → x\n",
    "\n",
    "# 2. Calculate:\n",
    "#    r = (p / 100) * (n - 1)     r = 0.75 * 3  ->  (2.25)  ->  75 th according \n",
    "\n",
    "# 3. Split r into:\n",
    "#    i = int(floor(r))     # integer part   ->   2\n",
    "#    f = r - i             # fractional part      ->   0.25\n",
    "\n",
    "# 4. Apply formula:\n",
    "#    P = x[i] + f * (x[i + 1] - x[i])   ->     12 + 0.25 * (33 - 12)    ->  12 + 0.25(21)   ->  12 + 5.25\n",
    "\n",
    "print(np.percentile(arr,75))            "
   ]
  },
  {
   "cell_type": "code",
   "execution_count": 12,
   "id": "bc952833-577b-4b13-8271-33557daa82a2",
   "metadata": {},
   "outputs": [
    {
     "name": "stdout",
     "output_type": "stream",
     "text": [
      "35.0\n",
      "20.0\n",
      "40.0\n"
     ]
    }
   ],
   "source": [
    "\n",
    "# Rank Like System\n",
    "arr2 = np.array([10, 20, 35, 40, 50])\n",
    "\n",
    "print(np.percentile(arr2, 50))   # Median = 30\n",
    "print(np.percentile(arr2, 25))   # 25th percentile = 20\n",
    "print(np.percentile(arr2, 75))   # 75th percentile = 40"
   ]
  },
  {
   "cell_type": "code",
   "execution_count": 13,
   "id": "830abaef-eb4c-444d-aa90-0fcb7549fb7b",
   "metadata": {},
   "outputs": [
    {
     "name": "stdout",
     "output_type": "stream",
     "text": [
      "14.2828568570857\n",
      "204.0\n"
     ]
    }
   ],
   "source": [
    "# Variance = (std^2)\n",
    "\n",
    "# σ = sqrt( (1 / n) * Σ (xᵢ - μ)² )\n",
    "# σ² = (1 / n) * Σ (xᵢ - μ)² \n",
    "\n",
    "print(np.std(arr2))\n",
    "print(np.var(arr2))"
   ]
  },
  {
   "cell_type": "code",
   "execution_count": 14,
   "id": "c8164b66-3e5e-4a7e-9ec6-0347cfa9cb41",
   "metadata": {},
   "outputs": [
    {
     "data": {
      "text/plain": [
       "array([  9,  22,  49,  85, 139])"
      ]
     },
     "execution_count": 14,
     "metadata": {},
     "output_type": "execute_result"
    }
   ],
   "source": [
    "a1 = [2, 3, 5, 6, 8]\n",
    "a2 = [9, 13, 27, 36, 54]\n",
    "\n",
    "np.diff(a1)\n",
    "np.cumsum(a2)"
   ]
  },
  {
   "cell_type": "code",
   "execution_count": 15,
   "id": "f8a6e7dd-5777-44da-a2ad-50304a1cecb2",
   "metadata": {},
   "outputs": [
    {
     "data": {
      "text/plain": [
       "array([[1.        , 0.99351307],\n",
       "       [0.99351307, 1.        ]])"
      ]
     },
     "execution_count": 15,
     "metadata": {},
     "output_type": "execute_result"
    }
   ],
   "source": [
    "# r = Σ[(x_i - x̄)(y_i - ȳ)] / (√Σ(x_i - x̄)² * √Σ(y_i - ȳ)²)\n",
    "\n",
    "np.corrcoef(a1, a2)"
   ]
  },
  {
   "cell_type": "code",
   "execution_count": 16,
   "id": "f03c9bd8-f408-41d4-bce2-aca03b41fd01",
   "metadata": {},
   "outputs": [
    {
     "data": {
      "text/plain": [
       "array([1.09861229, 1.60943791, 2.48490665, 3.49650756])"
      ]
     },
     "execution_count": 16,
     "metadata": {},
     "output_type": "execute_result"
    }
   ],
   "source": [
    "np.log(arr)"
   ]
  },
  {
   "cell_type": "code",
   "execution_count": 17,
   "id": "214cb214-5d3d-483f-ae0d-cbfd42a87a14",
   "metadata": {},
   "outputs": [
    {
     "data": {
      "text/plain": [
       "array([2.00855369e+01, 1.48413159e+02, 1.62754791e+05, 2.14643580e+14])"
      ]
     },
     "execution_count": 17,
     "metadata": {},
     "output_type": "execute_result"
    }
   ],
   "source": [
    "np.exp(arr)"
   ]
  },
  {
   "cell_type": "code",
   "execution_count": 18,
   "id": "3c20fa16-73fb-4e0b-afe3-dfd865e423a6",
   "metadata": {},
   "outputs": [
    {
     "data": {
      "text/plain": [
       "np.float64(2.0)"
      ]
     },
     "execution_count": 18,
     "metadata": {},
     "output_type": "execute_result"
    }
   ],
   "source": [
    "np.log10(100)"
   ]
  },
  {
   "cell_type": "code",
   "execution_count": 19,
   "id": "da218f0f-cc72-4474-b432-b1ab8bdf6483",
   "metadata": {},
   "outputs": [
    {
     "data": {
      "text/plain": [
       "np.int64(0)"
      ]
     },
     "execution_count": 19,
     "metadata": {},
     "output_type": "execute_result"
    }
   ],
   "source": [
    "np.argmin(a1)"
   ]
  },
  {
   "cell_type": "code",
   "execution_count": 20,
   "id": "3d32c0f9-7f3e-456c-86ff-bcef87868a2d",
   "metadata": {},
   "outputs": [
    {
     "data": {
      "text/plain": [
       "np.int64(4)"
      ]
     },
     "execution_count": 20,
     "metadata": {},
     "output_type": "execute_result"
    }
   ],
   "source": [
    "np.argmax(a2)"
   ]
  },
  {
   "cell_type": "code",
   "execution_count": 21,
   "id": "f5ec538d-a6e7-4853-a2dd-06fd5bdbc5fe",
   "metadata": {},
   "outputs": [
    {
     "data": {
      "text/plain": [
       "array([1, 2, 3, 5, 6, 7, 8, 9])"
      ]
     },
     "execution_count": 21,
     "metadata": {},
     "output_type": "execute_result"
    }
   ],
   "source": [
    "a3 = [ 2, 3, 3, 1, 1, 5, 5, 7, 7, 8, 2, 6, 9]\n",
    "\n",
    "np.unique(a3)"
   ]
  }
 ],
 "metadata": {
  "kernelspec": {
   "display_name": "Python [conda env:base] *",
   "language": "python",
   "name": "conda-base-py"
  },
  "language_info": {
   "codemirror_mode": {
    "name": "ipython",
    "version": 3
   },
   "file_extension": ".py",
   "mimetype": "text/x-python",
   "name": "python",
   "nbconvert_exporter": "python",
   "pygments_lexer": "ipython3",
   "version": "3.13.5"
  }
 },
 "nbformat": 4,
 "nbformat_minor": 5
}
