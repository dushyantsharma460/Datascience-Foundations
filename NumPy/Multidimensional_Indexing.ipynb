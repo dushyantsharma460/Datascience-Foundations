{
 "cells": [
  {
   "cell_type": "code",
   "execution_count": 1,
   "id": "b8e6cbc7-2ff9-4747-a9be-d1bbd5f010b8",
   "metadata": {},
   "outputs": [],
   "source": [
    "import numpy as np\n",
    "arr = np.array([[1, 2, 3],\n",
    "[4, 5, 6],\n",
    "[7, 8, 9]])"
   ]
  },
  {
   "cell_type": "code",
   "execution_count": 2,
   "id": "038c059e-880c-41fb-9d98-502472d4bb6e",
   "metadata": {},
   "outputs": [
    {
     "data": {
      "text/plain": [
       "array([[1, 2, 3],\n",
       "       [4, 5, 6],\n",
       "       [7, 8, 9]])"
      ]
     },
     "execution_count": 2,
     "metadata": {},
     "output_type": "execute_result"
    }
   ],
   "source": [
    "arr"
   ]
  },
  {
   "cell_type": "code",
   "execution_count": 3,
   "id": "759dc0dd-f553-46c7-8a27-3700211bb274",
   "metadata": {},
   "outputs": [
    {
     "data": {
      "text/plain": [
       "np.int64(45)"
      ]
     },
     "execution_count": 3,
     "metadata": {},
     "output_type": "execute_result"
    }
   ],
   "source": [
    "np.sum(arr)"
   ]
  },
  {
   "cell_type": "code",
   "execution_count": 4,
   "id": "6d825361-3951-4529-a416-b4a90eb7831b",
   "metadata": {},
   "outputs": [
    {
     "data": {
      "text/plain": [
       "array([12, 15, 18])"
      ]
     },
     "execution_count": 4,
     "metadata": {},
     "output_type": "execute_result"
    }
   ],
   "source": [
    "np.sum(arr, axis=0)      # Sum along rows (down each column)"
   ]
  },
  {
   "cell_type": "code",
   "execution_count": 5,
   "id": "d816339d-a2c2-4008-ac26-a3a67f300b94",
   "metadata": {},
   "outputs": [
    {
     "data": {
      "text/plain": [
       "array([ 6, 15, 24])"
      ]
     },
     "execution_count": 5,
     "metadata": {},
     "output_type": "execute_result"
    }
   ],
   "source": [
    "np.sum(arr, axis=1)      # Sum along columns (across each row)"
   ]
  },
  {
   "cell_type": "code",
   "execution_count": 6,
   "id": "e1328062-58c2-45c9-9d37-cd1263fde0e7",
   "metadata": {},
   "outputs": [
    {
     "name": "stdout",
     "output_type": "stream",
     "text": [
      "6\n",
      "7\n"
     ]
    }
   ],
   "source": [
    "# Indexing in multidimensional Array is similiar in vector in math and list in python\n",
    "\n",
    "print(arr[1][2])   # Row -> 1         Column -> 2\n",
    "print(arr[2][0])   # Row -> 2         Column -> 0"
   ]
  },
  {
   "cell_type": "code",
   "execution_count": 7,
   "id": "e400f786-7186-4cf0-8a43-75d16bb6a18b",
   "metadata": {},
   "outputs": [
    {
     "name": "stdout",
     "output_type": "stream",
     "text": [
      "6\n",
      "7\n",
      "[[1 2 3]\n",
      " [4 5 6]\n",
      " [7 8 9]]\n"
     ]
    },
    {
     "data": {
      "text/plain": [
       "array([[2, 3],\n",
       "       [5, 6]])"
      ]
     },
     "execution_count": 7,
     "metadata": {},
     "output_type": "execute_result"
    }
   ],
   "source": [
    "# Numpy also give easy syntax for indexing in multidimesional array's as well as 1 D array\n",
    "\n",
    "# For 1 D, 2 D Array \n",
    "print(arr[1,2])\n",
    "print(arr[2,0])\n",
    "\n",
    "print(arr)\n",
    "\n",
    "# For 2 D Array (Range Indexing)\n",
    "arr[0:2, 1:3]          # [included : excluded]"
   ]
  },
  {
   "cell_type": "code",
   "execution_count": 8,
   "id": "52725768-ca4b-4174-a945-7404a0cab334",
   "metadata": {},
   "outputs": [
    {
     "name": "stdout",
     "output_type": "stream",
     "text": [
      "(2, 2, 3)\n"
     ]
    }
   ],
   "source": [
    "# Indexing in 3 D Array \n",
    "\n",
    "arr3D = np.array([\n",
    "    [\n",
    "        [1, 2, 3], \n",
    "        [4, 5, 6]\n",
    "    ],\n",
    "        \n",
    "    [\n",
    "        [7, 8, 9],\n",
    "        [10, 11, 12]\n",
    "    ]\n",
    "])\n",
    "# Output of arr3D.shape is → (depth, rows, columns)\n",
    "\n",
    "print(arr3D.shape)"
   ]
  },
  {
   "cell_type": "code",
   "execution_count": 9,
   "id": "360bf982-9c41-47d2-aff2-acbb7f221d30",
   "metadata": {},
   "outputs": [
    {
     "name": "stdout",
     "output_type": "stream",
     "text": [
      "11\n",
      "6\n",
      "\n",
      "\n",
      "[[[ 1  2  3]\n",
      "  [ 4  5  6]]\n",
      "\n",
      " [[ 7  8  9]\n",
      "  [10 11 12]]]\n",
      "\n",
      "\n",
      "[[2 3]\n",
      " [5 6]]\n",
      "\n",
      "\n",
      "[ 9 12]\n"
     ]
    }
   ],
   "source": [
    "# Simple Indexing in 3 D Array\n",
    "\n",
    "print(arr3D[1,1,1])\n",
    "print(arr3D[0,1,2])\n",
    "print()\n",
    "print()\n",
    "\n",
    "\n",
    "print(arr3D)\n",
    "print()\n",
    "print()\n",
    "\n",
    "\n",
    "# Range Indexing in 3 D Array\n",
    "\n",
    "print(arr3D[0,:,1:3])\n",
    "print()\n",
    "print()\n",
    "\n",
    "print(arr3D[1,:,2])"
   ]
  },
  {
   "cell_type": "code",
   "execution_count": 10,
   "id": "551371a9-edcd-4e97-9f2f-6e514f21b6a1",
   "metadata": {},
   "outputs": [],
   "source": [
    "arr3D_1 = np.array([\n",
    "    [\n",
    "        [1, 2, 3], \n",
    "        [4, 5, 6],\n",
    "        [7, 8, 9]\n",
    "    ],\n",
    "        \n",
    "    [\n",
    "        [7, 8, 9],\n",
    "        [10, 11, 12],\n",
    "        \n",
    "        [13, 14, 14]\n",
    "    ],\n",
    "    [\n",
    "        [13, 14, 15],\n",
    "        [16, 17, 18],\n",
    "        [19, 20, 21]\n",
    "    ]\n",
    "])"
   ]
  },
  {
   "cell_type": "code",
   "execution_count": 11,
   "id": "8b224999-987f-4867-8215-9aa27f80ec95",
   "metadata": {},
   "outputs": [
    {
     "data": {
      "text/plain": [
       "array([[[ 2,  3],\n",
       "        [ 5,  6]],\n",
       "\n",
       "       [[ 8,  9],\n",
       "        [11, 12]]])"
      ]
     },
     "execution_count": 11,
     "metadata": {},
     "output_type": "execute_result"
    }
   ],
   "source": [
    "arr3D_1[0:2,0:2,1:3]"
   ]
  },
  {
   "cell_type": "code",
   "execution_count": 12,
   "id": "266620ab-84b3-4d8d-9bb5-5776209466fc",
   "metadata": {},
   "outputs": [
    {
     "data": {
      "text/plain": [
       "array([[ 1,  2,  3],\n",
       "       [ 7,  8,  9],\n",
       "       [13, 14, 15]])"
      ]
     },
     "execution_count": 12,
     "metadata": {},
     "output_type": "execute_result"
    }
   ],
   "source": [
    "arr3D_1[:,0,:]"
   ]
  },
  {
   "cell_type": "code",
   "execution_count": 13,
   "id": "5274ef9b-46c5-4154-962b-35d28136b750",
   "metadata": {},
   "outputs": [],
   "source": [
    "arr3D_1[:,2,2] = 0"
   ]
  },
  {
   "cell_type": "code",
   "execution_count": 14,
   "id": "e9a7447b-6dd9-4862-82c5-b56e2532c948",
   "metadata": {},
   "outputs": [
    {
     "data": {
      "text/plain": [
       "array([[[ 1,  2,  3],\n",
       "        [ 4,  5,  6],\n",
       "        [ 7,  8,  0]],\n",
       "\n",
       "       [[ 7,  8,  9],\n",
       "        [10, 11, 12],\n",
       "        [13, 14,  0]],\n",
       "\n",
       "       [[13, 14, 15],\n",
       "        [16, 17, 18],\n",
       "        [19, 20,  0]]])"
      ]
     },
     "execution_count": 14,
     "metadata": {},
     "output_type": "execute_result"
    }
   ],
   "source": [
    "arr3D_1"
   ]
  }
 ],
 "metadata": {
  "kernelspec": {
   "display_name": "Python [conda env:base] *",
   "language": "python",
   "name": "conda-base-py"
  },
  "language_info": {
   "codemirror_mode": {
    "name": "ipython",
    "version": 3
   },
   "file_extension": ".py",
   "mimetype": "text/x-python",
   "name": "python",
   "nbconvert_exporter": "python",
   "pygments_lexer": "ipython3",
   "version": "3.13.5"
  }
 },
 "nbformat": 4,
 "nbformat_minor": 5
}
