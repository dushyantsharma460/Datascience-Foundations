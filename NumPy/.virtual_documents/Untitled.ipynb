import numpy as np


arr = np.array([3, 5, 7, 4])


np.max(arr)


np.min(arr)


np.mean(arr)



