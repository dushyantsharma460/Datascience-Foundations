# Python Zip Explained

l1 = [1, 2, 4]
l2 = [6, 7, 8]

list(zip(l1,l2))   # Only zip give a zip object so need to convert this into list


# Using Numpy Arrays
import numpy as np
import time 

size = 1_000_000_0

l1 = np.array(list(range(size)))
l2 = np.array(list(range(size)))

start = time.time()
add = l1 + l2
end = time.time()
print(add[0:10])

print(end-start)



# Using Python List
import numpy as np
import time 

size = 1_000_000_0

l1 = list(range(size))
l2 = list(range(size))

start = time.time()
add = [x+y for x,y in zip(l1,l2)]
end = time.time()
print(add[0:10])

print(end-start)


# Try to use only Number Arrays as Numpy is effienient only for Number Array

np.array([1, 2, 3, 4, 5, 6, 7, 8])          # Make ensure that the array is of Number (For better optimisation)
np.array([1, 2, 3, 4, 5, 6, 7, "dushyant"])   # Here the dtype is unicode string array 


# You can't be able to make jacked 2D Array
np.array([[1, 2, 3],[4, 5, 6]])


import sys
list_data = list(range(1000))
numpy_data = np.array(list_data)
print("Python list size:", sys.getsizeof(list_data) * len(list_data), "bytes")
print("NumPy array size:", numpy_data.nbytes, "bytes")


import time
size = 1_000_000

l1 = list(range(size))

start = time.time()
list_squares = [x ** 2 for x in l1]
end = time.time()
print(f"List takes time {end - start} ")


# NumPy is mainly made for numerical computations. So possible arr1**2
import time
import numpy as np

size = 1_000_000

arr1 = np.array(range(size))

start = time.time()
numpy_square = arr1 ** 2   
end = time.time()

print(f"Numpy vectorization takes time {end - start} ")


# Create a NumPy array with values from 10 to 100 and print its shape.
arr = np.arange(10, 101)
print(arr)
print(arr.shape)


# Find the memory size of a NumPy array with 1 million elements.
import numpy as np

arr = np.arange(1_000_000)
print("Memory size in bytes:", arr.nbytes)

