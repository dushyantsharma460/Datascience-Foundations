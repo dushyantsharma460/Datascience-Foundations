import numpy as np
arr = np.array([[1, 2, 3],[4, 5, 6],[7, 8, 9]])


arr


flat = arr.flatten()


flat


flat[0]


flat[8]


flat[0:3]


flat[:5]         # Same as flat[0:5]


flat[3:]         # Same as flat[3:9]


flat[::2]         # Every second element


# Slicing returns a view, not a copy! Changes affect the original array.

slice_123 = flat[0:3]


slice_123


slice_123[2] = 333


slice_123


# Numpy refer same memory location
flat



# If you want to make copy of flat use copy method
copy_arr = flat[0:3].copy()


copy_arr


copy_arr[2] = 444


copy_arr


flat


new_arr = np.array([1, 43, 54, 65, 45, 64, 23, 63])


# Fancy Indexing
new_arr[[3,5,7]]       # Extract 60's line Number by passing the list


# Boolean Masking
new_arr[new_arr < 50]


new_arr


# Create a 3×3 array with random numbers
random_array = np.random.rand(3, 3) * 10 + 1

print("Array:\n", random_array)
print("Shape:", random_array.shape)


random_num = np.random.rand() * 10 + 1
random_num


float_arr = np.array([1.1, 2.2, 3.3])


int_arr = float_arr.astype('int32')



