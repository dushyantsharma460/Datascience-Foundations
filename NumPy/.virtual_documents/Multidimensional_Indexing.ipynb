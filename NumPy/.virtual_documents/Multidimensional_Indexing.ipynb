import numpy as np
arr = np.array([[1, 2, 3],
[4, 5, 6],
[7, 8, 9]])


arr


np.sum(arr)


np.sum(arr, axis=0)      # Sum along rows (down each column)


np.sum(arr, axis=1)      # Sum along columns (across each row)


# Indexing in multidimensional Array is similiar in vector in math and list in python

print(arr[1][2])   # Row -> 1         Column -> 2
print(arr[2][0])   # Row -> 2         Column -> 0


# Numpy also give easy syntax for indexing in multidimesional array's as well as 1 D array

# For 1 D, 2 D Array 
print(arr[1,2])
print(arr[2,0])

print(arr)

# For 2 D Array (Range Indexing)
arr[0:2, 1:3]          # [included : excluded]


# Indexing in 3 D Array 

arr3D = np.array([
    [
        [1, 2, 3], 
        [4, 5, 6]
    ],
        
    [
        [7, 8, 9],
        [10, 11, 12]
    ]
])
# Output of arr3D.shape is → (depth, rows, columns)

print(arr3D.shape)


# Simple Indexing in 3 D Array

print(arr3D[1,1,1])
print(arr3D[0,1,2])
print()
print()


print(arr3D)
print()
print()


# Range Indexing in 3 D Array

print(arr3D[0,:,1:3])
print()
print()

print(arr3D[1,:,2])


arr3D_1 = np.array([
    [
        [1, 2, 3], 
        [4, 5, 6],
        [7, 8, 9]
    ],
        
    [
        [7, 8, 9],
        [10, 11, 12],
        
        [13, 14, 14]
    ],
    [
        [13, 14, 15],
        [16, 17, 18],
        [19, 20, 21]
    ]
])


arr3D_1[0:2,0:2,1:3]


arr3D_1[:,0,:]


arr3D_1[:,2,2] = 0


arr3D_1
