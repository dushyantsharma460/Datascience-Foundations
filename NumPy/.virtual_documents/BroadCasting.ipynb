# Vectorized operation

import numpy as np

arr = np.array([1, 2, 3, 4, 5])
result = arr ** 2
print(result)


# Broadcasting: 10 is added to all elements

arr = np.array([1, 2, 3, 4, 5])
result = arr + 10
print(result)


# Broadcast 1 D array to 2 D

arr1 = np.array([[1, 2, 3], [4, 5, 6]])    # Broadcasting arr2 across arr1
arr2 = np.array([1, 2, 3])
result = arr1 + arr2
print(result)


# Example of Normalization

# Simulating a dataset (5 samples, 3 features)

data = np.array([
    [10, 20, 30],
    [15, 25, 35],
    [20, 30, 40],
    [25, 35, 45],
    [30, 40, 50]
])

# Calculating mean for each feature (column)

mean = data.mean(axis=0)

print(mean)



# Calculating standard deviation for each feature (column)

# σ = sqrt( (1 / n) * Σ (xᵢ - μ)² )

std = data.std(axis=0)         # population std

print(std)


# Sample Std

# s = sqrt( (1 / (n - 1)) * Σ (xᵢ - x̄)² )

sample_std = data.std(axis=0,ddof=1)  # sample std

print(sample_std)


# Formula terms explanation:

# xᵢ   = each data point
# μ or x̄ = mean (average of all data points)
# n    = number of data points
# Σ    = sum over all data points
# sqrt = square root


# Normalizing the data using broadcasting

normalized_data = (data - mean) / std

print(normalized_data)
