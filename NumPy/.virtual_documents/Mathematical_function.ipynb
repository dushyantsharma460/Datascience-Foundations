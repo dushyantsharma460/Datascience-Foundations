import numpy as np


arr = np.array([3, 5, 12, 33])


print(np.mean(arr))


print(np.min(arr))


max = np.max(arr)


print(max)


print(np.std(arr))


print(np.var(arr))


print(np.sum(arr))


print(np.prod(arr))


print(np.percentile(arr,100))  

# 1. Sort the array → x

# 2. Calculate:
#    r = (p / 100) * (n - 1)     r = 0.75 * 3  ->  (2.25)  ->  75 th according 

# 3. Split r into:
#    i = int(floor(r))     # integer part   ->   2
#    f = r - i             # fractional part      ->   0.25

# 4. Apply formula:
#    P = x[i] + f * (x[i + 1] - x[i])   ->     12 + 0.25 * (33 - 12)    ->  12 + 0.25(21)   ->  12 + 5.25

print(np.percentile(arr,75))            



# Rank Like System
arr2 = np.array([10, 20, 35, 40, 50])

print(np.percentile(arr2, 50))   # Median = 30
print(np.percentile(arr2, 25))   # 25th percentile = 20
print(np.percentile(arr2, 75))   # 75th percentile = 40


# Variance = (std^2)

# σ = sqrt( (1 / n) * Σ (xᵢ - μ)² )
# σ² = (1 / n) * Σ (xᵢ - μ)² 

print(np.std(arr2))
print(np.var(arr2))


a1 = [2, 3, 5, 6, 8]
a2 = [9, 13, 27, 36, 54]

np.diff(a1)
np.cumsum(a2)


# r = Σ[(x_i - x̄)(y_i - ȳ)] / (√Σ(x_i - x̄)² * √Σ(y_i - ȳ)²)

np.corrcoef(a1, a2)


np.log(arr)


np.exp(arr)


np.log10(100)


np.argmin(a1)


np.argmax(a2)



