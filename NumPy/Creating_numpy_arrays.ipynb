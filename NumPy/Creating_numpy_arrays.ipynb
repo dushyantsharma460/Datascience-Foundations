{
 "cells": [
  {
   "cell_type": "code",
   "execution_count": 2,
   "id": "2f3e7e7a-2393-4662-a92c-c7809d01faef",
   "metadata": {},
   "outputs": [],
   "source": [
    "import numpy as np"
   ]
  },
  {
   "cell_type": "code",
   "execution_count": 3,
   "id": "1507119a-2206-4826-afcc-4b559cb5e452",
   "metadata": {},
   "outputs": [
    {
     "name": "stdout",
     "output_type": "stream",
     "text": [
      "Requirement already satisfied: numpy in /home/dushyant/anaconda3/lib/python3.13/site-packages (2.1.3)\n"
     ]
    }
   ],
   "source": [
    "!pip install numpy"
   ]
  },
  {
   "cell_type": "code",
   "execution_count": 4,
   "id": "8c29ce2f-feec-4a0f-b04b-6f982c4329ce",
   "metadata": {},
   "outputs": [],
   "source": [
    "arr = np.array([1, 3, 4])"
   ]
  },
  {
   "cell_type": "code",
   "execution_count": 5,
   "id": "8eb2a19e-ef20-4ecd-b2c6-37f29efa3f09",
   "metadata": {},
   "outputs": [
    {
     "data": {
      "text/plain": [
       "array([1, 3, 4])"
      ]
     },
     "execution_count": 5,
     "metadata": {},
     "output_type": "execute_result"
    }
   ],
   "source": [
    "arr"
   ]
  },
  {
   "cell_type": "code",
   "execution_count": 7,
   "id": "ef675247-e424-4b95-8fb2-cda5d7479b80",
   "metadata": {},
   "outputs": [
    {
     "data": {
      "text/plain": [
       "array([[0., 0., 0., 0.],\n",
       "       [0., 0., 0., 0.],\n",
       "       [0., 0., 0., 0.]])"
      ]
     },
     "execution_count": 7,
     "metadata": {},
     "output_type": "execute_result"
    }
   ],
   "source": [
    "# Creating zeros array\n",
    "\n",
    "np.zeros((3, 4))"
   ]
  },
  {
   "cell_type": "code",
   "execution_count": 10,
   "id": "9e99fb2c-dfc2-4c6d-a121-32566d1b6f02",
   "metadata": {},
   "outputs": [
    {
     "data": {
      "text/plain": [
       "array([[1., 1., 1., 1., 1., 1.],\n",
       "       [1., 1., 1., 1., 1., 1.],\n",
       "       [1., 1., 1., 1., 1., 1.]])"
      ]
     },
     "execution_count": 10,
     "metadata": {},
     "output_type": "execute_result"
    }
   ],
   "source": [
    "# Creating ones array\n",
    "\n",
    "np.ones((3,6))"
   ]
  },
  {
   "cell_type": "code",
   "execution_count": 11,
   "id": "f6b361f7-fd3b-44a1-aa8e-db1571aae505",
   "metadata": {},
   "outputs": [
    {
     "data": {
      "text/plain": [
       "array([[8, 8, 8, 8, 8],\n",
       "       [8, 8, 8, 8, 8],\n",
       "       [8, 8, 8, 8, 8],\n",
       "       [8, 8, 8, 8, 8]])"
      ]
     },
     "execution_count": 11,
     "metadata": {},
     "output_type": "execute_result"
    }
   ],
   "source": [
    "# Creating any values array\n",
    "\n",
    "np.full((4,5),8)"
   ]
  },
  {
   "cell_type": "code",
   "execution_count": 13,
   "id": "0f336efe-c513-4c37-9f25-f558bdf9c40a",
   "metadata": {},
   "outputs": [
    {
     "data": {
      "text/plain": [
       "array([[1., 0., 0., 0.],\n",
       "       [0., 1., 0., 0.],\n",
       "       [0., 0., 1., 0.],\n",
       "       [0., 0., 0., 1.]])"
      ]
     },
     "execution_count": 13,
     "metadata": {},
     "output_type": "execute_result"
    }
   ],
   "source": [
    "# Creating identity matrices \n",
    "\n",
    "np.eye(4)"
   ]
  },
  {
   "cell_type": "code",
   "execution_count": 16,
   "id": "83497f34-eb0c-43ce-8e36-7067586f50ab",
   "metadata": {},
   "outputs": [
    {
     "data": {
      "text/plain": [
       "array([ 1, 10, 19, 28, 37, 46, 55, 64, 73, 82, 91])"
      ]
     },
     "execution_count": 16,
     "metadata": {},
     "output_type": "execute_result"
    }
   ],
   "source": [
    "np.arange(1, 100, 9)"
   ]
  },
  {
   "cell_type": "code",
   "execution_count": 32,
   "id": "99a55441-2607-4a53-a06d-c512b86767a4",
   "metadata": {},
   "outputs": [
    {
     "name": "stdout",
     "output_type": "stream",
     "text": [
      "[  0.  25.  50.  75. 100.]\n",
      "[0.   0.25 0.5  0.75 1.  ]\n",
      "[ 1.  5.  9. 13. 17. 21. 25. 29. 33.]\n",
      "[ 1.          5.57142857 10.14285714 14.71428571 19.28571429 23.85714286\n",
      " 28.42857143 33.        ]\n"
     ]
    }
   ],
   "source": [
    "# Create equally spaced Array\n",
    "\n",
    "print(np.linspace(0, 100, 5))\n",
    "print(np.linspace(0, 1, 5))\n",
    "\n",
    "print(np.linspace(1, 33, 9))\n",
    "print(np.linspace(1, 33, 8))"
   ]
  },
  {
   "cell_type": "code",
   "execution_count": 43,
   "id": "55c46ea3-6c73-48ee-918b-4c6fcbce624f",
   "metadata": {},
   "outputs": [],
   "source": [
    "myarr = np.array([[1, 2, 3], [4, 5, 6], [7, 8, 9], [11, 12, 13]])"
   ]
  },
  {
   "cell_type": "code",
   "execution_count": 44,
   "id": "09d9f318-45cf-448a-9ad1-cc90659e7269",
   "metadata": {},
   "outputs": [
    {
     "data": {
      "text/plain": [
       "array([[ 1,  2,  3],\n",
       "       [ 4,  5,  6],\n",
       "       [ 7,  8,  9],\n",
       "       [11, 12, 13]])"
      ]
     },
     "execution_count": 44,
     "metadata": {},
     "output_type": "execute_result"
    }
   ],
   "source": [
    "myarr"
   ]
  },
  {
   "cell_type": "code",
   "execution_count": 45,
   "id": "e3bfb2cf-1fd8-4fc9-8e08-af1e4adeb703",
   "metadata": {},
   "outputs": [
    {
     "name": "stdout",
     "output_type": "stream",
     "text": [
      "Shape: (4, 3)\n",
      "Size: 12\n",
      "Dimensions: 2\n",
      "Data type: int64\n"
     ]
    }
   ],
   "source": [
    "print(\"Shape:\", myarr.shape)\n",
    "print(\"Size:\", myarr.size)\n",
    "print(\"Dimensions:\", myarr.ndim) \n",
    "print(\"Data type:\", myarr.dtype)"
   ]
  },
  {
   "cell_type": "code",
   "execution_count": 52,
   "id": "2a684b29-29fe-4c80-9718-675b09492a9b",
   "metadata": {},
   "outputs": [],
   "source": [
    "# Changing the Data Type Explicitily\n",
    "\n",
    "\n",
    "myarr3d = np.array([\n",
    "    [\n",
    "        [1, 2, 3, 4],\n",
    "        [5, 6, 7, 8],\n",
    "        [9, 10, 11, 12]\n",
    "    ],\n",
    "    [\n",
    "        [13, 14, 15, 16],\n",
    "        [17, 18, 19, 20],\n",
    "        [21, 22, 23, 24]\n",
    "    ]\n",
    "], dtype='float32')"
   ]
  },
  {
   "cell_type": "code",
   "execution_count": 53,
   "id": "0041e463-c5d2-4b4d-a689-03466a9107a5",
   "metadata": {},
   "outputs": [
    {
     "data": {
      "text/plain": [
       "3"
      ]
     },
     "execution_count": 53,
     "metadata": {},
     "output_type": "execute_result"
    }
   ],
   "source": [
    "myarr3d.ndim"
   ]
  },
  {
   "cell_type": "code",
   "execution_count": 54,
   "id": "bdbb9ea5-8a9b-42a4-87c8-40b4a9449bd8",
   "metadata": {},
   "outputs": [
    {
     "data": {
      "text/plain": [
       "array([[[ 1.,  2.,  3.,  4.],\n",
       "        [ 5.,  6.,  7.,  8.],\n",
       "        [ 9., 10., 11., 12.]],\n",
       "\n",
       "       [[13., 14., 15., 16.],\n",
       "        [17., 18., 19., 20.],\n",
       "        [21., 22., 23., 24.]]], dtype=float32)"
      ]
     },
     "execution_count": 54,
     "metadata": {},
     "output_type": "execute_result"
    }
   ],
   "source": [
    "myarr3d"
   ]
  },
  {
   "cell_type": "code",
   "execution_count": 55,
   "id": "53be280e-42ff-46d1-827c-0d086e8e9be5",
   "metadata": {},
   "outputs": [],
   "source": [
    "# Convert float to int\n",
    "\n",
    "arr_int = myarr3d.astype(np.int32)"
   ]
  },
  {
   "cell_type": "code",
   "execution_count": 56,
   "id": "d32dca22-83eb-4803-9b56-2ed9660710c6",
   "metadata": {},
   "outputs": [
    {
     "data": {
      "text/plain": [
       "array([[[ 1,  2,  3,  4],\n",
       "        [ 5,  6,  7,  8],\n",
       "        [ 9, 10, 11, 12]],\n",
       "\n",
       "       [[13, 14, 15, 16],\n",
       "        [17, 18, 19, 20],\n",
       "        [21, 22, 23, 24]]], dtype=int32)"
      ]
     },
     "execution_count": 56,
     "metadata": {},
     "output_type": "execute_result"
    }
   ],
   "source": [
    "arr_int"
   ]
  },
  {
   "cell_type": "code",
   "execution_count": 63,
   "id": "6dc59857-be99-474b-9670-90d65ba9d34c",
   "metadata": {},
   "outputs": [],
   "source": [
    "# Reshapting the Array \n",
    "\n",
    "reshaped = myarr.reshape((3, 4))"
   ]
  },
  {
   "cell_type": "code",
   "execution_count": 64,
   "id": "61835e9b-c960-46c4-9ed6-de671ca865ab",
   "metadata": {},
   "outputs": [
    {
     "data": {
      "text/plain": [
       "array([[ 1,  2,  3,  4],\n",
       "       [ 5,  6,  7,  8],\n",
       "       [ 9, 11, 12, 13]])"
      ]
     },
     "execution_count": 64,
     "metadata": {},
     "output_type": "execute_result"
    }
   ],
   "source": [
    "reshaped"
   ]
  },
  {
   "cell_type": "code",
   "execution_count": 65,
   "id": "5c3716cb-f84c-4588-9c96-b7ab3087e8c0",
   "metadata": {},
   "outputs": [],
   "source": [
    "# reshaped element is same as that of previous\n",
    "reshaped2 = reshaped.reshape((6, 2))"
   ]
  },
  {
   "cell_type": "code",
   "execution_count": 66,
   "id": "30a4c4fd-fcc8-4f40-ac9a-dd2345ceab78",
   "metadata": {},
   "outputs": [
    {
     "data": {
      "text/plain": [
       "array([[ 1,  2],\n",
       "       [ 3,  4],\n",
       "       [ 5,  6],\n",
       "       [ 7,  8],\n",
       "       [ 9, 11],\n",
       "       [12, 13]])"
      ]
     },
     "execution_count": 66,
     "metadata": {},
     "output_type": "execute_result"
    }
   ],
   "source": [
    "reshaped2"
   ]
  },
  {
   "cell_type": "code",
   "execution_count": 70,
   "id": "25ebdf13-8a08-418a-a216-718ceacdd097",
   "metadata": {},
   "outputs": [
    {
     "name": "stdout",
     "output_type": "stream",
     "text": [
      "[ 1  2  3  4  5  6  7  8  9 11 12 13]\n",
      "[ 1  2  3  4  5  6  7  8  9 10 11 12 13 14 15 16 17 18 19 20 21 22 23 24]\n"
     ]
    }
   ],
   "source": [
    "# Flatted Array -> Flat the entire array means make 1D fully\n",
    "\n",
    "flatter1 = reshaped2.flatten()\n",
    "print(flatter1)\n",
    "\n",
    "flatter2 = myarr3d.flatten().astype(np.int32)\n",
    "print(flatter2)"
   ]
  }
 ],
 "metadata": {
  "kernelspec": {
   "display_name": "Python [conda env:base] *",
   "language": "python",
   "name": "conda-base-py"
  },
  "language_info": {
   "codemirror_mode": {
    "name": "ipython",
    "version": 3
   },
   "file_extension": ".py",
   "mimetype": "text/x-python",
   "name": "python",
   "nbconvert_exporter": "python",
   "pygments_lexer": "ipython3",
   "version": "3.13.5"
  }
 },
 "nbformat": 4,
 "nbformat_minor": 5
}
