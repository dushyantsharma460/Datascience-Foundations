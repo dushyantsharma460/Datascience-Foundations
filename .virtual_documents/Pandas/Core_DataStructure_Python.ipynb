import pandas as pd


# Simple Series 1 D

s1 = pd.Series([2, 4, 6, 8, 10])


type(s1)


print(s1)


# Series with Custom Index
s2 = pd.Series([2, 4, 5, 7, 8, 9], index=["Dushyant","Mayank","Divyansh","Drishti","Kriti","Neeti"])


s2


print(s2["Dushyant"])


print(s2["Neeti"])


# Data Frame 2 D (Data Structure)
# DataFrame is like a dictionary of Series — multiple columns with labels.

data1 = {
    "name": ["Dushyant","Mayank","Divyansh"],
    "age": [20, 19, 16],
    "city": ["Banglore","Delhi","Sirsa"]
}



# Printing Simple Dictionary
data1


pd.DataFrame(data1)


# Create direct Data Frame

df = pd.DataFrame(
    {
        "name": ["Dushyant","Mayank","Divyansh"],
        "age": [20, 19, 16],
        "city": ["Banglore","Delhi","Sirsa"]
    }
)


df


df.index


df.columns
