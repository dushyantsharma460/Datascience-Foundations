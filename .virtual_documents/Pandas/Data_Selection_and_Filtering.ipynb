import pandas as pd


df = pd.read_csv("bollywood.csv")


df


# Remove NaN column from my data 

df.dropna(axis=1, how='all', inplace=True)  

# If you want to remove columns with any NaN values use

# how='any'


df


# Extract Specific Column

df['Actor']        # Single column (as Series)


type(df['Actor'])


# This is only copy if you want to change in main data use inplace=True

df[["Actor","Film"]]          # Multiple columns (as DataFrame)


type(df[["Actor","Film"]])


df


# Selecting Rows by Index

# First row (by label)

df.loc[0]          # this is find your data by index


# First row (by position) -> According to Index

df.iloc[0]      # Same result as that of loc what differnet?

# iloc is useful when we change the row label and now we try with loc we can't pass number we need to give the label of the row or columns but we do this with iloc by using index


df.loc[2,"Film"]          # Use label


df.iloc[2,1]       # Use Index





# Slicing using loc

# Note :- 4 is inclusive in loc
# Note :- This slicing is according to label

df.loc[0:4, "Actor":"Genre"]


# Slicing using loc (Giving list of columns)

df.loc[0:4, ["Actor","IMDb","BoxOffice (INR Crore)","Genre"]]  # New View is according to this order of loc


# Slicing using iloc with index

# Note :- 4 is exclusive in iloc

df.iloc[0:4 , 0: 4]


# Fastest Method to access one particular element at and iat (loc and iloc is not as faster as that of at and iat)

# Use only when you want to access one particular element

df.at[8,"Film"]


df.iat[4,1]





# Filtering and extract whole data frame

df[df["IMDb"] > 7.8]


# Filtering and extract specific column (Use Chaining)

df[df["IMDb"] < 7 ]["Film"]


# Now i want that new film will show after 2019 with BoxOffice greater 500 Cr.

df[(df["Year"] >= 2018) & (df["BoxOffice (INR Crore)"] > 500)]["Film"]


# Best funtion for easy filter df.query()

df.query("Year >= 2018")


# Not use and, or symbol write full keyword to filter the data

df.query("Year == 2019 or Genre == 'Biography'")


# Use Backtick when you columns name is included with special character

df.query("`BoxOffice (INR Crore)` == 238")


my_bday_year = 2017
# Use @ when you want to use variable for your filtering

df.query("Year == @my_bday_year")


# Chained Comparision

df.query("500 < `BoxOffice (INR Crore)` < 1000")


# Most of the funtion return copy but you can use copy funtion to ensure that we extract a copy not the view

df2 = df[["Actor","Film"]].copy()

# By default it give copy but by using copy fuction it give guarantee that it is a copy not view


df2


df2.loc[0,"Actor"] = "Dushyant"


# df2 completely independent from df

df2


df
