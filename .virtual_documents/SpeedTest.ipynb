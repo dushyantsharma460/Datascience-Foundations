# Python Zip Explained

l1 = [1, 2, 4]
l2 = [6, 7, 8]

list(zip(l1,l2))   # Only zip give a zip object so need to convert this into list


# Using Numpy Arrays
import numpy as np
import time 

size = 1_000_000_0

l1 = np.array(list(range(size)))
l2 = np.array(list(range(size)))

start = time.time()
add = l1 + l2
end = time.time()
print(add[0:10])

print(end-start)



# Using Python List
import numpy as np
import time 

size = 1_000_000_0

l1 = list(range(size))
l2 = list(range(size))

start = time.time()
add = [x+y for x,y in zip(l1,l2)]
end = time.time()
print(add[0:10])

print(end-start)


# Try to use only Number Arrays as Numpy is effienient only for Number Array

np.array([1, 2, 3, 4, 5, 6, 7, 8])          # Make ensure that the array is of Number (For better optimisation)
np.array([1, 2, 3, 4, 5, 6, 7, "dushyant"])   # Here the dtype is unicode string array 


# You can't be able to make jacked 2D Array
arr = np.array([[1, 2, 3],[4, 5, 6]])


type(arr)


arr.shape



