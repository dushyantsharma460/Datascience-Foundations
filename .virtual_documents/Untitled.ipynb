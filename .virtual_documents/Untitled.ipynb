# Using python list
import numpy as np
import time 

size = 1_000_000

l1 = list(range(size))
l2 = list(range(size))

start = time.time()
add = [x+y for x,y in zip(l1,l2)]
end = time.time()

print(end-start)






l1 = [1, 2, 4]


l2 = [6, 7, 8]


list(zip(l1,l2))



