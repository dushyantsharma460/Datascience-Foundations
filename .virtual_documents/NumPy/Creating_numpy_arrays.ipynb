import numpy as np


!pip install numpy


arr = np.array([1, 3, 4])


arr


# Creating zeros array

np.zeros((3, 4))


# Creating ones array

np.ones((3,6))


# Creating any values array

np.full((4,5),8)


# Creating identity matrices 

np.eye(4)


np.arange(1, 100, 9)


# Create equally spaced Array

print(np.linspace(0, 100, 5))
print(np.linspace(0, 1, 5))

print(np.linspace(1, 33, 9))
print(np.linspace(1, 33, 8))


myarr = np.array([[1, 2, 3], [4, 5, 6], [7, 8, 9], [11, 12, 13]])


myarr


print("Shape:", myarr.shape)
print("Size:", myarr.size)
print("Dimensions:", myarr.ndim) 
print("Data type:", myarr.dtype)


# Changing the Data Type Explicitily


myarr3d = np.array([
    [
        [1, 2, 3, 4],
        [5, 6, 7, 8],
        [9, 10, 11, 12]
    ],
    [
        [13, 14, 15, 16],
        [17, 18, 19, 20],
        [21, 22, 23, 24]
    ]
], dtype='float32')


myarr3d.ndim


myarr3d


# Convert float to int

arr_int = myarr3d.astype(np.int32)


arr_int


# Reshapting the Array 

reshaped = myarr.reshape((3, 4))


reshaped


# reshaped element is same as that of previous
reshaped2 = reshaped.reshape((6, 2))


reshaped2


# Flatted Array -> Flat the entire array means make 1D fully

flatter1 = reshaped2.flatten()
print(flatter1)

flatter2 = myarr3d.flatten().astype(np.int32)
print(flatter2)
