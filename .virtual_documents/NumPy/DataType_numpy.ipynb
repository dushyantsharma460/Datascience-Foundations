import numpy as np


arr = np.array([23, 4, 3, 23])


arr.dtype



# arr.astype("float32")

arr.astype(np.int32)


arr2 = np.array([12, 23, 34, 45, 56], dtype="float64")


arr2


arr.nbytes


arr2.nbytes


arr_int64 = np.array([1, 2, 3], dtype=np.int64)
arr_int32 = np.array([1, 2, 3], dtype=np.int32)
print(arr_int64.nbytes)# Output: 24 bytes (3 elements * 8 bytes each)
print(arr_int32.nbytes)# Output: 12 bytes (3 elements * 4 bytes each)


# String Data Type (Not efficient)

arr3 = np.array(['apple', 'banana', 'cherry'], dtype='U10')
print(arr)


arr3.dtype


# Complex Number

arr4 = np.array([1 + 2j, 3 + 4j, 5 + 6j], dtype='complex128')
print(arr)


arr4.dtype


# Store Object (Not a good idea)

arr5 = np.array([{'a': 1}, [1, 2, 3], 'hello'], dtype=object)
print(arr)


arr5


arr5.dtype
