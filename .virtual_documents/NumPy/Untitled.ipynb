import numpy as np


arr = np.array([23, 4, 3, 23])


arr.dtype



arr.astype("float32")


arr2 = np.array([12, 23, 34, 45, 56], dtype="float64")


arr2



