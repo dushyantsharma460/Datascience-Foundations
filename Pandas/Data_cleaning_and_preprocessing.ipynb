{
 "cells": [
  {
   "cell_type": "code",
   "execution_count": 1,
   "id": "e03e590d-9c68-4306-8b25-25bac428efca",
   "metadata": {},
   "outputs": [],
   "source": [
    "import pandas as pd"
   ]
  },
  {
   "cell_type": "code",
   "execution_count": 2,
   "id": "4c31ec75-62bb-4157-b830-604ce767d90e",
   "metadata": {},
   "outputs": [],
   "source": [
    "# Data with missing value\n",
    "\n",
    "df = pd.read_csv(\"data_cleaning_sample.csv\")"
   ]
  },
  {
   "cell_type": "code",
   "execution_count": 3,
   "id": "54cb7bd7-eac3-4631-9543-9af68328778e",
   "metadata": {},
   "outputs": [
    {
     "data": {
      "text/html": [
       "<div>\n",
       "<style scoped>\n",
       "    .dataframe tbody tr th:only-of-type {\n",
       "        vertical-align: middle;\n",
       "    }\n",
       "\n",
       "    .dataframe tbody tr th {\n",
       "        vertical-align: top;\n",
       "    }\n",
       "\n",
       "    .dataframe thead th {\n",
       "        text-align: right;\n",
       "    }\n",
       "</style>\n",
       "<table border=\"1\" class=\"dataframe\">\n",
       "  <thead>\n",
       "    <tr style=\"text-align: right;\">\n",
       "      <th></th>\n",
       "      <th>Name</th>\n",
       "      <th>Age</th>\n",
       "      <th>City</th>\n",
       "      <th>Gender</th>\n",
       "      <th>Email</th>\n",
       "      <th>Join Date</th>\n",
       "    </tr>\n",
       "  </thead>\n",
       "  <tbody>\n",
       "    <tr>\n",
       "      <th>0</th>\n",
       "      <td>Alice</td>\n",
       "      <td>25.0</td>\n",
       "      <td>New York</td>\n",
       "      <td>F</td>\n",
       "      <td>alice@example.com</td>\n",
       "      <td>01-05-2021</td>\n",
       "    </tr>\n",
       "    <tr>\n",
       "      <th>1</th>\n",
       "      <td>Charlie</td>\n",
       "      <td>NaN</td>\n",
       "      <td>Delhi</td>\n",
       "      <td>M</td>\n",
       "      <td>charlie@example</td>\n",
       "      <td>20-07-2021</td>\n",
       "    </tr>\n",
       "    <tr>\n",
       "      <th>2</th>\n",
       "      <td>Bob</td>\n",
       "      <td>30.0</td>\n",
       "      <td>Los Angeles</td>\n",
       "      <td>M</td>\n",
       "      <td>bob@example.com</td>\n",
       "      <td>15-06-2020</td>\n",
       "    </tr>\n",
       "    <tr>\n",
       "      <th>3</th>\n",
       "      <td>Charlie</td>\n",
       "      <td>NaN</td>\n",
       "      <td>Delhi</td>\n",
       "      <td>M</td>\n",
       "      <td>charlie@example</td>\n",
       "      <td>20-07-2021</td>\n",
       "    </tr>\n",
       "    <tr>\n",
       "      <th>4</th>\n",
       "      <td>David</td>\n",
       "      <td>22.0</td>\n",
       "      <td>Mumbai</td>\n",
       "      <td>M</td>\n",
       "      <td>david@example.com</td>\n",
       "      <td>12-11-2019</td>\n",
       "    </tr>\n",
       "    <tr>\n",
       "      <th>5</th>\n",
       "      <td>NaN</td>\n",
       "      <td>28.0</td>\n",
       "      <td>Delhi</td>\n",
       "      <td>F</td>\n",
       "      <td>eve@domain.com</td>\n",
       "      <td>NaN</td>\n",
       "    </tr>\n",
       "    <tr>\n",
       "      <th>6</th>\n",
       "      <td>Alice</td>\n",
       "      <td>25.0</td>\n",
       "      <td>New York</td>\n",
       "      <td>F</td>\n",
       "      <td>alice@example.com</td>\n",
       "      <td>01-05-2021</td>\n",
       "    </tr>\n",
       "    <tr>\n",
       "      <th>7</th>\n",
       "      <td>Alice</td>\n",
       "      <td>25.0</td>\n",
       "      <td>New York</td>\n",
       "      <td>F</td>\n",
       "      <td>alice@example.com</td>\n",
       "      <td>01-05-2021</td>\n",
       "    </tr>\n",
       "    <tr>\n",
       "      <th>8</th>\n",
       "      <td>Charlie</td>\n",
       "      <td>NaN</td>\n",
       "      <td>Delhi</td>\n",
       "      <td>M</td>\n",
       "      <td>charlie@example</td>\n",
       "      <td>20-07-2021</td>\n",
       "    </tr>\n",
       "  </tbody>\n",
       "</table>\n",
       "</div>"
      ],
      "text/plain": [
       "      Name   Age         City Gender              Email   Join Date\n",
       "0    Alice  25.0     New York      F  alice@example.com  01-05-2021\n",
       "1  Charlie   NaN        Delhi      M    charlie@example  20-07-2021\n",
       "2      Bob  30.0  Los Angeles      M    bob@example.com  15-06-2020\n",
       "3  Charlie   NaN        Delhi      M    charlie@example  20-07-2021\n",
       "4    David  22.0       Mumbai      M  david@example.com  12-11-2019\n",
       "5      NaN  28.0        Delhi      F     eve@domain.com         NaN\n",
       "6    Alice  25.0     New York      F  alice@example.com  01-05-2021\n",
       "7    Alice  25.0     New York      F  alice@example.com  01-05-2021\n",
       "8  Charlie   NaN        Delhi      M    charlie@example  20-07-2021"
      ]
     },
     "execution_count": 3,
     "metadata": {},
     "output_type": "execute_result"
    }
   ],
   "source": [
    "df"
   ]
  },
  {
   "cell_type": "code",
   "execution_count": 4,
   "id": "b057255a-3dda-4d98-b663-e1dd74a8afdc",
   "metadata": {},
   "outputs": [
    {
     "data": {
      "text/plain": [
       "0    False\n",
       "1    False\n",
       "2    False\n",
       "3     True\n",
       "4    False\n",
       "5    False\n",
       "6     True\n",
       "7     True\n",
       "8     True\n",
       "dtype: bool"
      ]
     },
     "execution_count": 4,
     "metadata": {},
     "output_type": "execute_result"
    }
   ],
   "source": [
    "df.duplicated()"
   ]
  },
  {
   "cell_type": "code",
   "execution_count": 5,
   "id": "ffeab540-81eb-4320-b648-68bfcfd9dc06",
   "metadata": {},
   "outputs": [],
   "source": [
    "df.drop_duplicates(inplace=True)"
   ]
  },
  {
   "cell_type": "code",
   "execution_count": 6,
   "id": "25c4929a-3ace-49f0-ae57-3ea1d875017f",
   "metadata": {},
   "outputs": [
    {
     "data": {
      "text/html": [
       "<div>\n",
       "<style scoped>\n",
       "    .dataframe tbody tr th:only-of-type {\n",
       "        vertical-align: middle;\n",
       "    }\n",
       "\n",
       "    .dataframe tbody tr th {\n",
       "        vertical-align: top;\n",
       "    }\n",
       "\n",
       "    .dataframe thead th {\n",
       "        text-align: right;\n",
       "    }\n",
       "</style>\n",
       "<table border=\"1\" class=\"dataframe\">\n",
       "  <thead>\n",
       "    <tr style=\"text-align: right;\">\n",
       "      <th></th>\n",
       "      <th>Name</th>\n",
       "      <th>Age</th>\n",
       "      <th>City</th>\n",
       "      <th>Gender</th>\n",
       "      <th>Email</th>\n",
       "      <th>Join Date</th>\n",
       "    </tr>\n",
       "  </thead>\n",
       "  <tbody>\n",
       "    <tr>\n",
       "      <th>0</th>\n",
       "      <td>Alice</td>\n",
       "      <td>25.0</td>\n",
       "      <td>New York</td>\n",
       "      <td>F</td>\n",
       "      <td>alice@example.com</td>\n",
       "      <td>01-05-2021</td>\n",
       "    </tr>\n",
       "    <tr>\n",
       "      <th>1</th>\n",
       "      <td>Charlie</td>\n",
       "      <td>NaN</td>\n",
       "      <td>Delhi</td>\n",
       "      <td>M</td>\n",
       "      <td>charlie@example</td>\n",
       "      <td>20-07-2021</td>\n",
       "    </tr>\n",
       "    <tr>\n",
       "      <th>2</th>\n",
       "      <td>Bob</td>\n",
       "      <td>30.0</td>\n",
       "      <td>Los Angeles</td>\n",
       "      <td>M</td>\n",
       "      <td>bob@example.com</td>\n",
       "      <td>15-06-2020</td>\n",
       "    </tr>\n",
       "    <tr>\n",
       "      <th>4</th>\n",
       "      <td>David</td>\n",
       "      <td>22.0</td>\n",
       "      <td>Mumbai</td>\n",
       "      <td>M</td>\n",
       "      <td>david@example.com</td>\n",
       "      <td>12-11-2019</td>\n",
       "    </tr>\n",
       "    <tr>\n",
       "      <th>5</th>\n",
       "      <td>NaN</td>\n",
       "      <td>28.0</td>\n",
       "      <td>Delhi</td>\n",
       "      <td>F</td>\n",
       "      <td>eve@domain.com</td>\n",
       "      <td>NaN</td>\n",
       "    </tr>\n",
       "  </tbody>\n",
       "</table>\n",
       "</div>"
      ],
      "text/plain": [
       "      Name   Age         City Gender              Email   Join Date\n",
       "0    Alice  25.0     New York      F  alice@example.com  01-05-2021\n",
       "1  Charlie   NaN        Delhi      M    charlie@example  20-07-2021\n",
       "2      Bob  30.0  Los Angeles      M    bob@example.com  15-06-2020\n",
       "4    David  22.0       Mumbai      M  david@example.com  12-11-2019\n",
       "5      NaN  28.0        Delhi      F     eve@domain.com         NaN"
      ]
     },
     "execution_count": 6,
     "metadata": {},
     "output_type": "execute_result"
    }
   ],
   "source": [
    "df"
   ]
  },
  {
   "cell_type": "code",
   "execution_count": 7,
   "id": "61a21376-7bf2-430d-a464-a78f9ebc8c2b",
   "metadata": {},
   "outputs": [
    {
     "data": {
      "text/html": [
       "<div>\n",
       "<style scoped>\n",
       "    .dataframe tbody tr th:only-of-type {\n",
       "        vertical-align: middle;\n",
       "    }\n",
       "\n",
       "    .dataframe tbody tr th {\n",
       "        vertical-align: top;\n",
       "    }\n",
       "\n",
       "    .dataframe thead th {\n",
       "        text-align: right;\n",
       "    }\n",
       "</style>\n",
       "<table border=\"1\" class=\"dataframe\">\n",
       "  <thead>\n",
       "    <tr style=\"text-align: right;\">\n",
       "      <th></th>\n",
       "      <th>Name</th>\n",
       "      <th>Age</th>\n",
       "      <th>City</th>\n",
       "      <th>Gender</th>\n",
       "      <th>Email</th>\n",
       "      <th>Join Date</th>\n",
       "    </tr>\n",
       "  </thead>\n",
       "  <tbody>\n",
       "    <tr>\n",
       "      <th>0</th>\n",
       "      <td>False</td>\n",
       "      <td>False</td>\n",
       "      <td>False</td>\n",
       "      <td>False</td>\n",
       "      <td>False</td>\n",
       "      <td>False</td>\n",
       "    </tr>\n",
       "    <tr>\n",
       "      <th>1</th>\n",
       "      <td>False</td>\n",
       "      <td>True</td>\n",
       "      <td>False</td>\n",
       "      <td>False</td>\n",
       "      <td>False</td>\n",
       "      <td>False</td>\n",
       "    </tr>\n",
       "    <tr>\n",
       "      <th>2</th>\n",
       "      <td>False</td>\n",
       "      <td>False</td>\n",
       "      <td>False</td>\n",
       "      <td>False</td>\n",
       "      <td>False</td>\n",
       "      <td>False</td>\n",
       "    </tr>\n",
       "    <tr>\n",
       "      <th>4</th>\n",
       "      <td>False</td>\n",
       "      <td>False</td>\n",
       "      <td>False</td>\n",
       "      <td>False</td>\n",
       "      <td>False</td>\n",
       "      <td>False</td>\n",
       "    </tr>\n",
       "    <tr>\n",
       "      <th>5</th>\n",
       "      <td>True</td>\n",
       "      <td>False</td>\n",
       "      <td>False</td>\n",
       "      <td>False</td>\n",
       "      <td>False</td>\n",
       "      <td>True</td>\n",
       "    </tr>\n",
       "  </tbody>\n",
       "</table>\n",
       "</div>"
      ],
      "text/plain": [
       "    Name    Age   City  Gender  Email  Join Date\n",
       "0  False  False  False   False  False      False\n",
       "1  False   True  False   False  False      False\n",
       "2  False  False  False   False  False      False\n",
       "4  False  False  False   False  False      False\n",
       "5   True  False  False   False  False       True"
      ]
     },
     "execution_count": 7,
     "metadata": {},
     "output_type": "execute_result"
    }
   ],
   "source": [
    "# Check where the null data is present\n",
    "\n",
    "df.isnull()"
   ]
  },
  {
   "cell_type": "code",
   "execution_count": 8,
   "id": "67d0e20d-585e-4794-bac9-e081728c46bb",
   "metadata": {},
   "outputs": [
    {
     "data": {
      "text/plain": [
       "Name         1\n",
       "Age          1\n",
       "City         0\n",
       "Gender       0\n",
       "Email        0\n",
       "Join Date    1\n",
       "dtype: int64"
      ]
     },
     "execution_count": 8,
     "metadata": {},
     "output_type": "execute_result"
    }
   ],
   "source": [
    "# Check per column null value\n",
    "\n",
    "df.isnull().sum()        # Count missing per column"
   ]
  },
  {
   "cell_type": "code",
   "execution_count": 9,
   "id": "6b16950f-89c8-475d-8b27-4aa5f42f0079",
   "metadata": {},
   "outputs": [
    {
     "data": {
      "text/html": [
       "<div>\n",
       "<style scoped>\n",
       "    .dataframe tbody tr th:only-of-type {\n",
       "        vertical-align: middle;\n",
       "    }\n",
       "\n",
       "    .dataframe tbody tr th {\n",
       "        vertical-align: top;\n",
       "    }\n",
       "\n",
       "    .dataframe thead th {\n",
       "        text-align: right;\n",
       "    }\n",
       "</style>\n",
       "<table border=\"1\" class=\"dataframe\">\n",
       "  <thead>\n",
       "    <tr style=\"text-align: right;\">\n",
       "      <th></th>\n",
       "      <th>Name</th>\n",
       "      <th>Age</th>\n",
       "      <th>City</th>\n",
       "      <th>Gender</th>\n",
       "      <th>Email</th>\n",
       "      <th>Join Date</th>\n",
       "    </tr>\n",
       "  </thead>\n",
       "  <tbody>\n",
       "    <tr>\n",
       "      <th>0</th>\n",
       "      <td>Alice</td>\n",
       "      <td>25.0</td>\n",
       "      <td>New York</td>\n",
       "      <td>F</td>\n",
       "      <td>alice@example.com</td>\n",
       "      <td>01-05-2021</td>\n",
       "    </tr>\n",
       "    <tr>\n",
       "      <th>2</th>\n",
       "      <td>Bob</td>\n",
       "      <td>30.0</td>\n",
       "      <td>Los Angeles</td>\n",
       "      <td>M</td>\n",
       "      <td>bob@example.com</td>\n",
       "      <td>15-06-2020</td>\n",
       "    </tr>\n",
       "    <tr>\n",
       "      <th>4</th>\n",
       "      <td>David</td>\n",
       "      <td>22.0</td>\n",
       "      <td>Mumbai</td>\n",
       "      <td>M</td>\n",
       "      <td>david@example.com</td>\n",
       "      <td>12-11-2019</td>\n",
       "    </tr>\n",
       "  </tbody>\n",
       "</table>\n",
       "</div>"
      ],
      "text/plain": [
       "    Name   Age         City Gender              Email   Join Date\n",
       "0  Alice  25.0     New York      F  alice@example.com  01-05-2021\n",
       "2    Bob  30.0  Los Angeles      M    bob@example.com  15-06-2020\n",
       "4  David  22.0       Mumbai      M  david@example.com  12-11-2019"
      ]
     },
     "execution_count": 9,
     "metadata": {},
     "output_type": "execute_result"
    }
   ],
   "source": [
    "df.dropna()     # By default (axis = 0) for row"
   ]
  },
  {
   "cell_type": "code",
   "execution_count": 10,
   "id": "40910324-e361-4335-845c-b79bd2c45c06",
   "metadata": {},
   "outputs": [
    {
     "data": {
      "text/html": [
       "<div>\n",
       "<style scoped>\n",
       "    .dataframe tbody tr th:only-of-type {\n",
       "        vertical-align: middle;\n",
       "    }\n",
       "\n",
       "    .dataframe tbody tr th {\n",
       "        vertical-align: top;\n",
       "    }\n",
       "\n",
       "    .dataframe thead th {\n",
       "        text-align: right;\n",
       "    }\n",
       "</style>\n",
       "<table border=\"1\" class=\"dataframe\">\n",
       "  <thead>\n",
       "    <tr style=\"text-align: right;\">\n",
       "      <th></th>\n",
       "      <th>City</th>\n",
       "      <th>Gender</th>\n",
       "      <th>Email</th>\n",
       "    </tr>\n",
       "  </thead>\n",
       "  <tbody>\n",
       "    <tr>\n",
       "      <th>0</th>\n",
       "      <td>New York</td>\n",
       "      <td>F</td>\n",
       "      <td>alice@example.com</td>\n",
       "    </tr>\n",
       "    <tr>\n",
       "      <th>1</th>\n",
       "      <td>Delhi</td>\n",
       "      <td>M</td>\n",
       "      <td>charlie@example</td>\n",
       "    </tr>\n",
       "    <tr>\n",
       "      <th>2</th>\n",
       "      <td>Los Angeles</td>\n",
       "      <td>M</td>\n",
       "      <td>bob@example.com</td>\n",
       "    </tr>\n",
       "    <tr>\n",
       "      <th>4</th>\n",
       "      <td>Mumbai</td>\n",
       "      <td>M</td>\n",
       "      <td>david@example.com</td>\n",
       "    </tr>\n",
       "    <tr>\n",
       "      <th>5</th>\n",
       "      <td>Delhi</td>\n",
       "      <td>F</td>\n",
       "      <td>eve@domain.com</td>\n",
       "    </tr>\n",
       "  </tbody>\n",
       "</table>\n",
       "</div>"
      ],
      "text/plain": [
       "          City Gender              Email\n",
       "0     New York      F  alice@example.com\n",
       "1        Delhi      M    charlie@example\n",
       "2  Los Angeles      M    bob@example.com\n",
       "4       Mumbai      M  david@example.com\n",
       "5        Delhi      F     eve@domain.com"
      ]
     },
     "execution_count": 10,
     "metadata": {},
     "output_type": "execute_result"
    }
   ],
   "source": [
    "df.dropna(axis = 1)    # for column\n",
    "\n",
    "# Use when your big data have large missing value in your column then you drop your whole column"
   ]
  },
  {
   "cell_type": "code",
   "execution_count": 11,
   "id": "e5af92c2-87ab-4977-b05e-8027b7064504",
   "metadata": {},
   "outputs": [
    {
     "data": {
      "text/html": [
       "<div>\n",
       "<style scoped>\n",
       "    .dataframe tbody tr th:only-of-type {\n",
       "        vertical-align: middle;\n",
       "    }\n",
       "\n",
       "    .dataframe tbody tr th {\n",
       "        vertical-align: top;\n",
       "    }\n",
       "\n",
       "    .dataframe thead th {\n",
       "        text-align: right;\n",
       "    }\n",
       "</style>\n",
       "<table border=\"1\" class=\"dataframe\">\n",
       "  <thead>\n",
       "    <tr style=\"text-align: right;\">\n",
       "      <th></th>\n",
       "      <th>Name</th>\n",
       "      <th>Age</th>\n",
       "      <th>City</th>\n",
       "      <th>Gender</th>\n",
       "      <th>Email</th>\n",
       "      <th>Join Date</th>\n",
       "    </tr>\n",
       "  </thead>\n",
       "  <tbody>\n",
       "    <tr>\n",
       "      <th>0</th>\n",
       "      <td>Alice</td>\n",
       "      <td>25.0</td>\n",
       "      <td>New York</td>\n",
       "      <td>F</td>\n",
       "      <td>alice@example.com</td>\n",
       "      <td>01-05-2021</td>\n",
       "    </tr>\n",
       "    <tr>\n",
       "      <th>1</th>\n",
       "      <td>Charlie</td>\n",
       "      <td>0.0</td>\n",
       "      <td>Delhi</td>\n",
       "      <td>M</td>\n",
       "      <td>charlie@example</td>\n",
       "      <td>20-07-2021</td>\n",
       "    </tr>\n",
       "    <tr>\n",
       "      <th>2</th>\n",
       "      <td>Bob</td>\n",
       "      <td>30.0</td>\n",
       "      <td>Los Angeles</td>\n",
       "      <td>M</td>\n",
       "      <td>bob@example.com</td>\n",
       "      <td>15-06-2020</td>\n",
       "    </tr>\n",
       "    <tr>\n",
       "      <th>4</th>\n",
       "      <td>David</td>\n",
       "      <td>22.0</td>\n",
       "      <td>Mumbai</td>\n",
       "      <td>M</td>\n",
       "      <td>david@example.com</td>\n",
       "      <td>12-11-2019</td>\n",
       "    </tr>\n",
       "    <tr>\n",
       "      <th>5</th>\n",
       "      <td>0</td>\n",
       "      <td>28.0</td>\n",
       "      <td>Delhi</td>\n",
       "      <td>F</td>\n",
       "      <td>eve@domain.com</td>\n",
       "      <td>0</td>\n",
       "    </tr>\n",
       "  </tbody>\n",
       "</table>\n",
       "</div>"
      ],
      "text/plain": [
       "      Name   Age         City Gender              Email   Join Date\n",
       "0    Alice  25.0     New York      F  alice@example.com  01-05-2021\n",
       "1  Charlie   0.0        Delhi      M    charlie@example  20-07-2021\n",
       "2      Bob  30.0  Los Angeles      M    bob@example.com  15-06-2020\n",
       "4    David  22.0       Mumbai      M  david@example.com  12-11-2019\n",
       "5        0  28.0        Delhi      F     eve@domain.com           0"
      ]
     },
     "execution_count": 11,
     "metadata": {},
     "output_type": "execute_result"
    }
   ],
   "source": [
    "# Fillna is used when missing value is less\n",
    "\n",
    "df.fillna(0)"
   ]
  },
  {
   "cell_type": "code",
   "execution_count": 12,
   "id": "e0417842-1ce2-4728-92d0-07e111000acb",
   "metadata": {},
   "outputs": [
    {
     "data": {
      "text/plain": [
       "0    25.00\n",
       "1    26.25\n",
       "2    30.00\n",
       "4    22.00\n",
       "5    28.00\n",
       "Name: Age, dtype: float64"
      ]
     },
     "execution_count": 12,
     "metadata": {},
     "output_type": "execute_result"
    }
   ],
   "source": [
    "# If the colums contains large value like (Cr., Lakh.) if we fill 0 in this \n",
    "# It will effect the statical info like mean \n",
    "# You can use alternate option\n",
    "\n",
    "# Option 1:-\n",
    "df[\"Age\"].fillna(df[\"Age\"].mean())"
   ]
  },
  {
   "cell_type": "code",
   "execution_count": 13,
   "id": "22b6b543-b693-4696-afa8-8dbea017c962",
   "metadata": {},
   "outputs": [],
   "source": [
    "# Option 2 :-  Forward Fill\n",
    "\n",
    "# df.fillna(method=\"ffill\")\n",
    "\n",
    "df.ffill(inplace=True)"
   ]
  },
  {
   "cell_type": "code",
   "execution_count": 14,
   "id": "1e1cada6-30a7-47e5-9d80-e2b5d24d0275",
   "metadata": {},
   "outputs": [
    {
     "data": {
      "text/html": [
       "<div>\n",
       "<style scoped>\n",
       "    .dataframe tbody tr th:only-of-type {\n",
       "        vertical-align: middle;\n",
       "    }\n",
       "\n",
       "    .dataframe tbody tr th {\n",
       "        vertical-align: top;\n",
       "    }\n",
       "\n",
       "    .dataframe thead th {\n",
       "        text-align: right;\n",
       "    }\n",
       "</style>\n",
       "<table border=\"1\" class=\"dataframe\">\n",
       "  <thead>\n",
       "    <tr style=\"text-align: right;\">\n",
       "      <th></th>\n",
       "      <th>Name</th>\n",
       "      <th>Age</th>\n",
       "      <th>City</th>\n",
       "      <th>Gender</th>\n",
       "      <th>Email</th>\n",
       "      <th>Join Date</th>\n",
       "    </tr>\n",
       "  </thead>\n",
       "  <tbody>\n",
       "    <tr>\n",
       "      <th>0</th>\n",
       "      <td>Alice</td>\n",
       "      <td>25.0</td>\n",
       "      <td>New York</td>\n",
       "      <td>F</td>\n",
       "      <td>alice@example.com</td>\n",
       "      <td>01-05-2021</td>\n",
       "    </tr>\n",
       "    <tr>\n",
       "      <th>1</th>\n",
       "      <td>Charlie</td>\n",
       "      <td>25.0</td>\n",
       "      <td>Delhi</td>\n",
       "      <td>M</td>\n",
       "      <td>charlie@example</td>\n",
       "      <td>20-07-2021</td>\n",
       "    </tr>\n",
       "    <tr>\n",
       "      <th>2</th>\n",
       "      <td>Bob</td>\n",
       "      <td>30.0</td>\n",
       "      <td>Los Angeles</td>\n",
       "      <td>M</td>\n",
       "      <td>bob@example.com</td>\n",
       "      <td>15-06-2020</td>\n",
       "    </tr>\n",
       "    <tr>\n",
       "      <th>4</th>\n",
       "      <td>David</td>\n",
       "      <td>22.0</td>\n",
       "      <td>Mumbai</td>\n",
       "      <td>M</td>\n",
       "      <td>david@example.com</td>\n",
       "      <td>12-11-2019</td>\n",
       "    </tr>\n",
       "    <tr>\n",
       "      <th>5</th>\n",
       "      <td>David</td>\n",
       "      <td>28.0</td>\n",
       "      <td>Delhi</td>\n",
       "      <td>F</td>\n",
       "      <td>eve@domain.com</td>\n",
       "      <td>12-11-2019</td>\n",
       "    </tr>\n",
       "  </tbody>\n",
       "</table>\n",
       "</div>"
      ],
      "text/plain": [
       "      Name   Age         City Gender              Email   Join Date\n",
       "0    Alice  25.0     New York      F  alice@example.com  01-05-2021\n",
       "1  Charlie  25.0        Delhi      M    charlie@example  20-07-2021\n",
       "2      Bob  30.0  Los Angeles      M    bob@example.com  15-06-2020\n",
       "4    David  22.0       Mumbai      M  david@example.com  12-11-2019\n",
       "5    David  28.0        Delhi      F     eve@domain.com  12-11-2019"
      ]
     },
     "execution_count": 14,
     "metadata": {},
     "output_type": "execute_result"
    }
   ],
   "source": [
    "# Option 3 :- Backward Fill\n",
    "\n",
    "# df.fillna(method=\"bfill\")    # This syntax is deprecated soon\n",
    "\n",
    "# Why I use inplace=True in forward because first row data is complete so it replace NaN properly \n",
    "\n",
    "df.bfill()"
   ]
  },
  {
   "cell_type": "code",
   "execution_count": 15,
   "id": "83db0b9d-9e0e-4d72-aedd-9f7ea18fbcc4",
   "metadata": {},
   "outputs": [
    {
     "data": {
      "text/plain": [
       "0    False\n",
       "1    False\n",
       "2    False\n",
       "4    False\n",
       "5    False\n",
       "dtype: bool"
      ]
     },
     "execution_count": 15,
     "metadata": {},
     "output_type": "execute_result"
    }
   ],
   "source": [
    "# You can also check specific pair is duplicated or not\n",
    "\n",
    "df.duplicated(subset=[\"Age\",\"Gender\"])"
   ]
  },
  {
   "cell_type": "code",
   "execution_count": 16,
   "id": "738908e2-f612-4c4d-b19f-3d9c2748cda7",
   "metadata": {},
   "outputs": [
    {
     "data": {
      "text/html": [
       "<div>\n",
       "<style scoped>\n",
       "    .dataframe tbody tr th:only-of-type {\n",
       "        vertical-align: middle;\n",
       "    }\n",
       "\n",
       "    .dataframe tbody tr th {\n",
       "        vertical-align: top;\n",
       "    }\n",
       "\n",
       "    .dataframe thead th {\n",
       "        text-align: right;\n",
       "    }\n",
       "</style>\n",
       "<table border=\"1\" class=\"dataframe\">\n",
       "  <thead>\n",
       "    <tr style=\"text-align: right;\">\n",
       "      <th></th>\n",
       "      <th>Name</th>\n",
       "      <th>Age</th>\n",
       "      <th>City</th>\n",
       "      <th>Gender</th>\n",
       "      <th>Email</th>\n",
       "      <th>Join Date</th>\n",
       "    </tr>\n",
       "  </thead>\n",
       "  <tbody>\n",
       "    <tr>\n",
       "      <th>0</th>\n",
       "      <td>Alice</td>\n",
       "      <td>25.0</td>\n",
       "      <td>New York</td>\n",
       "      <td>F</td>\n",
       "      <td>alice@example.com</td>\n",
       "      <td>01-05-2021</td>\n",
       "    </tr>\n",
       "    <tr>\n",
       "      <th>1</th>\n",
       "      <td>Charlie</td>\n",
       "      <td>25.0</td>\n",
       "      <td>Delhi</td>\n",
       "      <td>M</td>\n",
       "      <td>charlie@example</td>\n",
       "      <td>20-07-2021</td>\n",
       "    </tr>\n",
       "    <tr>\n",
       "      <th>2</th>\n",
       "      <td>Bob</td>\n",
       "      <td>30.0</td>\n",
       "      <td>Los Angeles</td>\n",
       "      <td>M</td>\n",
       "      <td>bob@example.com</td>\n",
       "      <td>15-06-2020</td>\n",
       "    </tr>\n",
       "    <tr>\n",
       "      <th>4</th>\n",
       "      <td>David</td>\n",
       "      <td>22.0</td>\n",
       "      <td>Mumbai</td>\n",
       "      <td>M</td>\n",
       "      <td>david@example.com</td>\n",
       "      <td>12-11-2019</td>\n",
       "    </tr>\n",
       "    <tr>\n",
       "      <th>5</th>\n",
       "      <td>David</td>\n",
       "      <td>28.0</td>\n",
       "      <td>Delhi</td>\n",
       "      <td>F</td>\n",
       "      <td>eve@domain.com</td>\n",
       "      <td>12-11-2019</td>\n",
       "    </tr>\n",
       "  </tbody>\n",
       "</table>\n",
       "</div>"
      ],
      "text/plain": [
       "      Name   Age         City Gender              Email   Join Date\n",
       "0    Alice  25.0     New York      F  alice@example.com  01-05-2021\n",
       "1  Charlie  25.0        Delhi      M    charlie@example  20-07-2021\n",
       "2      Bob  30.0  Los Angeles      M    bob@example.com  15-06-2020\n",
       "4    David  22.0       Mumbai      M  david@example.com  12-11-2019\n",
       "5    David  28.0        Delhi      F     eve@domain.com  12-11-2019"
      ]
     },
     "execution_count": 16,
     "metadata": {},
     "output_type": "execute_result"
    }
   ],
   "source": [
    "df"
   ]
  },
  {
   "cell_type": "markdown",
   "id": "a645ea4e-988b-485d-9fb3-949b47db20dc",
   "metadata": {},
   "source": [
    "# String Operation in Pandas"
   ]
  },
  {
   "cell_type": "code",
   "execution_count": 17,
   "id": "b8e5d395-8a59-48b2-86be-00a5592e6e02",
   "metadata": {},
   "outputs": [
    {
     "data": {
      "text/plain": [
       "0      alice\n",
       "1    charlie\n",
       "2        bob\n",
       "4      david\n",
       "5      david\n",
       "Name: Name, dtype: object"
      ]
     },
     "execution_count": 17,
     "metadata": {},
     "output_type": "execute_result"
    }
   ],
   "source": [
    "# Most of the string method are supported in pandas\n",
    "\n",
    "df[\"Name\"].str.lower()"
   ]
  },
  {
   "cell_type": "code",
   "execution_count": 18,
   "id": "cdc6cb7f-534e-4452-810e-338670a2b666",
   "metadata": {},
   "outputs": [
    {
     "data": {
      "text/plain": [
       "pandas.core.series.Series"
      ]
     },
     "execution_count": 18,
     "metadata": {},
     "output_type": "execute_result"
    }
   ],
   "source": [
    "type(df[\"Name\"].str.lower())"
   ]
  },
  {
   "cell_type": "code",
   "execution_count": 19,
   "id": "615170ba-18d6-4592-bd01-37b907e7fa64",
   "metadata": {},
   "outputs": [],
   "source": [
    "# String is not supported inplace=True\n",
    "# You can use alternate option\n",
    "\n",
    "df[\"Name\"] = df[\"Name\"].str.lower()"
   ]
  },
  {
   "cell_type": "code",
   "execution_count": 20,
   "id": "8d76dff2-ac98-445f-9075-aac2dd10d04d",
   "metadata": {},
   "outputs": [
    {
     "data": {
      "text/html": [
       "<div>\n",
       "<style scoped>\n",
       "    .dataframe tbody tr th:only-of-type {\n",
       "        vertical-align: middle;\n",
       "    }\n",
       "\n",
       "    .dataframe tbody tr th {\n",
       "        vertical-align: top;\n",
       "    }\n",
       "\n",
       "    .dataframe thead th {\n",
       "        text-align: right;\n",
       "    }\n",
       "</style>\n",
       "<table border=\"1\" class=\"dataframe\">\n",
       "  <thead>\n",
       "    <tr style=\"text-align: right;\">\n",
       "      <th></th>\n",
       "      <th>Name</th>\n",
       "      <th>Age</th>\n",
       "      <th>City</th>\n",
       "      <th>Gender</th>\n",
       "      <th>Email</th>\n",
       "      <th>Join Date</th>\n",
       "    </tr>\n",
       "  </thead>\n",
       "  <tbody>\n",
       "    <tr>\n",
       "      <th>0</th>\n",
       "      <td>alice</td>\n",
       "      <td>25.0</td>\n",
       "      <td>New York</td>\n",
       "      <td>F</td>\n",
       "      <td>alice@example.com</td>\n",
       "      <td>01-05-2021</td>\n",
       "    </tr>\n",
       "    <tr>\n",
       "      <th>1</th>\n",
       "      <td>charlie</td>\n",
       "      <td>25.0</td>\n",
       "      <td>Delhi</td>\n",
       "      <td>M</td>\n",
       "      <td>charlie@example</td>\n",
       "      <td>20-07-2021</td>\n",
       "    </tr>\n",
       "    <tr>\n",
       "      <th>2</th>\n",
       "      <td>bob</td>\n",
       "      <td>30.0</td>\n",
       "      <td>Los Angeles</td>\n",
       "      <td>M</td>\n",
       "      <td>bob@example.com</td>\n",
       "      <td>15-06-2020</td>\n",
       "    </tr>\n",
       "    <tr>\n",
       "      <th>4</th>\n",
       "      <td>david</td>\n",
       "      <td>22.0</td>\n",
       "      <td>Mumbai</td>\n",
       "      <td>M</td>\n",
       "      <td>david@example.com</td>\n",
       "      <td>12-11-2019</td>\n",
       "    </tr>\n",
       "    <tr>\n",
       "      <th>5</th>\n",
       "      <td>david</td>\n",
       "      <td>28.0</td>\n",
       "      <td>Delhi</td>\n",
       "      <td>F</td>\n",
       "      <td>eve@domain.com</td>\n",
       "      <td>12-11-2019</td>\n",
       "    </tr>\n",
       "  </tbody>\n",
       "</table>\n",
       "</div>"
      ],
      "text/plain": [
       "      Name   Age         City Gender              Email   Join Date\n",
       "0    alice  25.0     New York      F  alice@example.com  01-05-2021\n",
       "1  charlie  25.0        Delhi      M    charlie@example  20-07-2021\n",
       "2      bob  30.0  Los Angeles      M    bob@example.com  15-06-2020\n",
       "4    david  22.0       Mumbai      M  david@example.com  12-11-2019\n",
       "5    david  28.0        Delhi      F     eve@domain.com  12-11-2019"
      ]
     },
     "execution_count": 20,
     "metadata": {},
     "output_type": "execute_result"
    }
   ],
   "source": [
    "df"
   ]
  },
  {
   "cell_type": "code",
   "execution_count": 21,
   "id": "2033d20b-7288-4c90-91d9-e699e9e352b3",
   "metadata": {},
   "outputs": [
    {
     "data": {
      "text/plain": [
       "0    False\n",
       "1     True\n",
       "2    False\n",
       "4    False\n",
       "5     True\n",
       "Name: City, dtype: bool"
      ]
     },
     "execution_count": 21,
     "metadata": {},
     "output_type": "execute_result"
    }
   ],
   "source": [
    "df[\"City\"].str.contains(\"delhi\", case=False) # Checks if 'delhi' is in the city name, case-insensitive."
   ]
  },
  {
   "cell_type": "code",
   "execution_count": 22,
   "id": "95387d5a-18a5-4443-9424-7b122a6d41f7",
   "metadata": {},
   "outputs": [
    {
     "data": {
      "text/plain": [
       "pandas.core.series.Series"
      ]
     },
     "execution_count": 22,
     "metadata": {},
     "output_type": "execute_result"
    }
   ],
   "source": [
    "type(df[\"City\"].str.contains(\"delhi\", case=False) )"
   ]
  },
  {
   "cell_type": "code",
   "execution_count": 23,
   "id": "9b09b840-6a71-4bc3-ab16-4ca3cb9eecfd",
   "metadata": {},
   "outputs": [
    {
     "data": {
      "text/plain": [
       "['alice', 'example.com']"
      ]
     },
     "execution_count": 23,
     "metadata": {},
     "output_type": "execute_result"
    }
   ],
   "source": [
    "df[\"Email\"].str.split(\"@\")[0]"
   ]
  },
  {
   "cell_type": "code",
   "execution_count": 24,
   "id": "7e972aa5-415a-4ea5-b27b-b3d82ded2aef",
   "metadata": {},
   "outputs": [
    {
     "data": {
      "text/plain": [
       "list"
      ]
     },
     "execution_count": 24,
     "metadata": {},
     "output_type": "execute_result"
    }
   ],
   "source": [
    "type(df[\"Email\"].str.split(\"@\")[0])"
   ]
  },
  {
   "cell_type": "code",
   "execution_count": 25,
   "id": "87b84f8c-2bc6-4512-b23e-04d090502df6",
   "metadata": {},
   "outputs": [
    {
     "data": {
      "text/plain": [
       "0    [alice, example.com]\n",
       "1      [charlie, example]\n",
       "2      [bob, example.com]\n",
       "4    [david, example.com]\n",
       "5       [eve, domain.com]\n",
       "Name: Email, dtype: object"
      ]
     },
     "execution_count": 25,
     "metadata": {},
     "output_type": "execute_result"
    }
   ],
   "source": [
    "df[\"Email\"].str.split(\"@\")"
   ]
  },
  {
   "cell_type": "code",
   "execution_count": 26,
   "id": "6c6b6efa-4574-49bb-b39b-c4eb5517d214",
   "metadata": {},
   "outputs": [
    {
     "data": {
      "text/plain": [
       "pandas.core.series.Series"
      ]
     },
     "execution_count": 26,
     "metadata": {},
     "output_type": "execute_result"
    }
   ],
   "source": [
    "type(df[\"Email\"].str.split(\"@\"))"
   ]
  },
  {
   "cell_type": "code",
   "execution_count": 27,
   "id": "fccf4fa4-3f53-4d72-8c65-12653ca86c4f",
   "metadata": {},
   "outputs": [],
   "source": [
    "df[\"Age\"] = df[\"Age\"].astype(int)"
   ]
  },
  {
   "cell_type": "code",
   "execution_count": 28,
   "id": "5a9aafdb-cbc4-4ccd-a7b5-67ae33545d8a",
   "metadata": {},
   "outputs": [],
   "source": [
    "df[\"Category\"] = df[\"City\"].astype(\"category\")"
   ]
  },
  {
   "cell_type": "code",
   "execution_count": 29,
   "id": "be8089b2-254e-4eab-838d-69843baa8f52",
   "metadata": {},
   "outputs": [
    {
     "data": {
      "text/html": [
       "<div>\n",
       "<style scoped>\n",
       "    .dataframe tbody tr th:only-of-type {\n",
       "        vertical-align: middle;\n",
       "    }\n",
       "\n",
       "    .dataframe tbody tr th {\n",
       "        vertical-align: top;\n",
       "    }\n",
       "\n",
       "    .dataframe thead th {\n",
       "        text-align: right;\n",
       "    }\n",
       "</style>\n",
       "<table border=\"1\" class=\"dataframe\">\n",
       "  <thead>\n",
       "    <tr style=\"text-align: right;\">\n",
       "      <th></th>\n",
       "      <th>Name</th>\n",
       "      <th>Age</th>\n",
       "      <th>City</th>\n",
       "      <th>Gender</th>\n",
       "      <th>Email</th>\n",
       "      <th>Join Date</th>\n",
       "      <th>Category</th>\n",
       "    </tr>\n",
       "  </thead>\n",
       "  <tbody>\n",
       "    <tr>\n",
       "      <th>0</th>\n",
       "      <td>alice</td>\n",
       "      <td>25</td>\n",
       "      <td>New York</td>\n",
       "      <td>F</td>\n",
       "      <td>alice@example.com</td>\n",
       "      <td>01-05-2021</td>\n",
       "      <td>New York</td>\n",
       "    </tr>\n",
       "    <tr>\n",
       "      <th>1</th>\n",
       "      <td>charlie</td>\n",
       "      <td>25</td>\n",
       "      <td>Delhi</td>\n",
       "      <td>M</td>\n",
       "      <td>charlie@example</td>\n",
       "      <td>20-07-2021</td>\n",
       "      <td>Delhi</td>\n",
       "    </tr>\n",
       "    <tr>\n",
       "      <th>2</th>\n",
       "      <td>bob</td>\n",
       "      <td>30</td>\n",
       "      <td>Los Angeles</td>\n",
       "      <td>M</td>\n",
       "      <td>bob@example.com</td>\n",
       "      <td>15-06-2020</td>\n",
       "      <td>Los Angeles</td>\n",
       "    </tr>\n",
       "    <tr>\n",
       "      <th>4</th>\n",
       "      <td>david</td>\n",
       "      <td>22</td>\n",
       "      <td>Mumbai</td>\n",
       "      <td>M</td>\n",
       "      <td>david@example.com</td>\n",
       "      <td>12-11-2019</td>\n",
       "      <td>Mumbai</td>\n",
       "    </tr>\n",
       "    <tr>\n",
       "      <th>5</th>\n",
       "      <td>david</td>\n",
       "      <td>28</td>\n",
       "      <td>Delhi</td>\n",
       "      <td>F</td>\n",
       "      <td>eve@domain.com</td>\n",
       "      <td>12-11-2019</td>\n",
       "      <td>Delhi</td>\n",
       "    </tr>\n",
       "  </tbody>\n",
       "</table>\n",
       "</div>"
      ],
      "text/plain": [
       "      Name  Age         City Gender              Email   Join Date  \\\n",
       "0    alice   25     New York      F  alice@example.com  01-05-2021   \n",
       "1  charlie   25        Delhi      M    charlie@example  20-07-2021   \n",
       "2      bob   30  Los Angeles      M    bob@example.com  15-06-2020   \n",
       "4    david   22       Mumbai      M  david@example.com  12-11-2019   \n",
       "5    david   28        Delhi      F     eve@domain.com  12-11-2019   \n",
       "\n",
       "      Category  \n",
       "0     New York  \n",
       "1        Delhi  \n",
       "2  Los Angeles  \n",
       "4       Mumbai  \n",
       "5        Delhi  "
      ]
     },
     "execution_count": 29,
     "metadata": {},
     "output_type": "execute_result"
    }
   ],
   "source": [
    "df"
   ]
  },
  {
   "cell_type": "code",
   "execution_count": 30,
   "id": "e7f30f5b-8108-4514-bf65-92fec51b3a9b",
   "metadata": {},
   "outputs": [
    {
     "name": "stdout",
     "output_type": "stream",
     "text": [
      "<class 'pandas.core.frame.DataFrame'>\n",
      "Index: 5 entries, 0 to 5\n",
      "Data columns (total 7 columns):\n",
      " #   Column     Non-Null Count  Dtype   \n",
      "---  ------     --------------  -----   \n",
      " 0   Name       5 non-null      object  \n",
      " 1   Age        5 non-null      int64   \n",
      " 2   City       5 non-null      object  \n",
      " 3   Gender     5 non-null      object  \n",
      " 4   Email      5 non-null      object  \n",
      " 5   Join Date  5 non-null      object  \n",
      " 6   Category   5 non-null      category\n",
      "dtypes: category(1), int64(1), object(5)\n",
      "memory usage: 661.0+ bytes\n"
     ]
    }
   ],
   "source": [
    "df.info()"
   ]
  },
  {
   "cell_type": "code",
   "execution_count": 31,
   "id": "18ba87e2-a321-49ff-a972-326007ca5e0f",
   "metadata": {},
   "outputs": [],
   "source": [
    "df[\"Age Group\"] = df[\"Age\"].apply(lambda x: \"Adult\" if x > 25 else \"Minor\")"
   ]
  },
  {
   "cell_type": "code",
   "execution_count": 32,
   "id": "bc2a8b9f-7926-4474-acd3-4e5c7dfe29e5",
   "metadata": {},
   "outputs": [],
   "source": [
    "# You can also do this by simple funciton\n",
    "\n",
    "def is22or25(x):\n",
    "    return \"Yes\" if x == 22 or x == 25 else \"No\"\n",
    "\n",
    "df[\"Age 25 or 22\"] = df[\"Age\"].apply(is22or25)"
   ]
  },
  {
   "cell_type": "code",
   "execution_count": 33,
   "id": "67cb4184-0fa6-4ad0-bf0d-d2160aed565a",
   "metadata": {},
   "outputs": [
    {
     "data": {
      "text/html": [
       "<div>\n",
       "<style scoped>\n",
       "    .dataframe tbody tr th:only-of-type {\n",
       "        vertical-align: middle;\n",
       "    }\n",
       "\n",
       "    .dataframe tbody tr th {\n",
       "        vertical-align: top;\n",
       "    }\n",
       "\n",
       "    .dataframe thead th {\n",
       "        text-align: right;\n",
       "    }\n",
       "</style>\n",
       "<table border=\"1\" class=\"dataframe\">\n",
       "  <thead>\n",
       "    <tr style=\"text-align: right;\">\n",
       "      <th></th>\n",
       "      <th>Name</th>\n",
       "      <th>Age</th>\n",
       "      <th>City</th>\n",
       "      <th>Gender</th>\n",
       "      <th>Email</th>\n",
       "      <th>Join Date</th>\n",
       "      <th>Category</th>\n",
       "      <th>Age Group</th>\n",
       "      <th>Age 25 or 22</th>\n",
       "    </tr>\n",
       "  </thead>\n",
       "  <tbody>\n",
       "    <tr>\n",
       "      <th>0</th>\n",
       "      <td>alice</td>\n",
       "      <td>25</td>\n",
       "      <td>New York</td>\n",
       "      <td>F</td>\n",
       "      <td>alice@example.com</td>\n",
       "      <td>01-05-2021</td>\n",
       "      <td>New York</td>\n",
       "      <td>Minor</td>\n",
       "      <td>Yes</td>\n",
       "    </tr>\n",
       "    <tr>\n",
       "      <th>1</th>\n",
       "      <td>charlie</td>\n",
       "      <td>25</td>\n",
       "      <td>Delhi</td>\n",
       "      <td>M</td>\n",
       "      <td>charlie@example</td>\n",
       "      <td>20-07-2021</td>\n",
       "      <td>Delhi</td>\n",
       "      <td>Minor</td>\n",
       "      <td>Yes</td>\n",
       "    </tr>\n",
       "    <tr>\n",
       "      <th>2</th>\n",
       "      <td>bob</td>\n",
       "      <td>30</td>\n",
       "      <td>Los Angeles</td>\n",
       "      <td>M</td>\n",
       "      <td>bob@example.com</td>\n",
       "      <td>15-06-2020</td>\n",
       "      <td>Los Angeles</td>\n",
       "      <td>Adult</td>\n",
       "      <td>No</td>\n",
       "    </tr>\n",
       "    <tr>\n",
       "      <th>4</th>\n",
       "      <td>david</td>\n",
       "      <td>22</td>\n",
       "      <td>Mumbai</td>\n",
       "      <td>M</td>\n",
       "      <td>david@example.com</td>\n",
       "      <td>12-11-2019</td>\n",
       "      <td>Mumbai</td>\n",
       "      <td>Minor</td>\n",
       "      <td>Yes</td>\n",
       "    </tr>\n",
       "    <tr>\n",
       "      <th>5</th>\n",
       "      <td>david</td>\n",
       "      <td>28</td>\n",
       "      <td>Delhi</td>\n",
       "      <td>F</td>\n",
       "      <td>eve@domain.com</td>\n",
       "      <td>12-11-2019</td>\n",
       "      <td>Delhi</td>\n",
       "      <td>Adult</td>\n",
       "      <td>No</td>\n",
       "    </tr>\n",
       "  </tbody>\n",
       "</table>\n",
       "</div>"
      ],
      "text/plain": [
       "      Name  Age         City Gender              Email   Join Date  \\\n",
       "0    alice   25     New York      F  alice@example.com  01-05-2021   \n",
       "1  charlie   25        Delhi      M    charlie@example  20-07-2021   \n",
       "2      bob   30  Los Angeles      M    bob@example.com  15-06-2020   \n",
       "4    david   22       Mumbai      M  david@example.com  12-11-2019   \n",
       "5    david   28        Delhi      F     eve@domain.com  12-11-2019   \n",
       "\n",
       "      Category Age Group Age 25 or 22  \n",
       "0     New York     Minor          Yes  \n",
       "1        Delhi     Minor          Yes  \n",
       "2  Los Angeles     Adult           No  \n",
       "4       Mumbai     Minor          Yes  \n",
       "5        Delhi     Adult           No  "
      ]
     },
     "execution_count": 33,
     "metadata": {},
     "output_type": "execute_result"
    }
   ],
   "source": [
    "df"
   ]
  },
  {
   "cell_type": "code",
   "execution_count": 34,
   "id": "f7b21667-50a2-482a-ba99-8a14cb9aa988",
   "metadata": {},
   "outputs": [],
   "source": [
    "# New Use Case of Map \n",
    "\n",
    "# Map Dictionary()\n",
    "\n",
    "# In map it is compulsary that all the values that are in columns were also present in Dictionary so that it will replace otherwise it replacre all element with NaN\n",
    "\n",
    "gender_map = {\"M\": \"Male\", \"F\": \"Female\", \"O\": \"Other\"}\n",
    "df[\"Gender\"] = df[\"Gender\"].map(gender_map)"
   ]
  },
  {
   "cell_type": "code",
   "execution_count": 35,
   "id": "49a0451a-ca0c-49f6-a11b-53f8c2beb821",
   "metadata": {},
   "outputs": [
    {
     "data": {
      "text/html": [
       "<div>\n",
       "<style scoped>\n",
       "    .dataframe tbody tr th:only-of-type {\n",
       "        vertical-align: middle;\n",
       "    }\n",
       "\n",
       "    .dataframe tbody tr th {\n",
       "        vertical-align: top;\n",
       "    }\n",
       "\n",
       "    .dataframe thead th {\n",
       "        text-align: right;\n",
       "    }\n",
       "</style>\n",
       "<table border=\"1\" class=\"dataframe\">\n",
       "  <thead>\n",
       "    <tr style=\"text-align: right;\">\n",
       "      <th></th>\n",
       "      <th>Name</th>\n",
       "      <th>Age</th>\n",
       "      <th>City</th>\n",
       "      <th>Gender</th>\n",
       "      <th>Email</th>\n",
       "      <th>Join Date</th>\n",
       "      <th>Category</th>\n",
       "      <th>Age Group</th>\n",
       "      <th>Age 25 or 22</th>\n",
       "    </tr>\n",
       "  </thead>\n",
       "  <tbody>\n",
       "    <tr>\n",
       "      <th>0</th>\n",
       "      <td>alice</td>\n",
       "      <td>25</td>\n",
       "      <td>New York</td>\n",
       "      <td>Female</td>\n",
       "      <td>alice@example.com</td>\n",
       "      <td>01-05-2021</td>\n",
       "      <td>New York</td>\n",
       "      <td>Minor</td>\n",
       "      <td>Yes</td>\n",
       "    </tr>\n",
       "    <tr>\n",
       "      <th>1</th>\n",
       "      <td>charlie</td>\n",
       "      <td>25</td>\n",
       "      <td>Delhi</td>\n",
       "      <td>Male</td>\n",
       "      <td>charlie@example</td>\n",
       "      <td>20-07-2021</td>\n",
       "      <td>Delhi</td>\n",
       "      <td>Minor</td>\n",
       "      <td>Yes</td>\n",
       "    </tr>\n",
       "    <tr>\n",
       "      <th>2</th>\n",
       "      <td>bob</td>\n",
       "      <td>30</td>\n",
       "      <td>Los Angeles</td>\n",
       "      <td>Male</td>\n",
       "      <td>bob@example.com</td>\n",
       "      <td>15-06-2020</td>\n",
       "      <td>Los Angeles</td>\n",
       "      <td>Adult</td>\n",
       "      <td>No</td>\n",
       "    </tr>\n",
       "    <tr>\n",
       "      <th>4</th>\n",
       "      <td>david</td>\n",
       "      <td>22</td>\n",
       "      <td>Mumbai</td>\n",
       "      <td>Male</td>\n",
       "      <td>david@example.com</td>\n",
       "      <td>12-11-2019</td>\n",
       "      <td>Mumbai</td>\n",
       "      <td>Minor</td>\n",
       "      <td>Yes</td>\n",
       "    </tr>\n",
       "    <tr>\n",
       "      <th>5</th>\n",
       "      <td>david</td>\n",
       "      <td>28</td>\n",
       "      <td>Delhi</td>\n",
       "      <td>Female</td>\n",
       "      <td>eve@domain.com</td>\n",
       "      <td>12-11-2019</td>\n",
       "      <td>Delhi</td>\n",
       "      <td>Adult</td>\n",
       "      <td>No</td>\n",
       "    </tr>\n",
       "  </tbody>\n",
       "</table>\n",
       "</div>"
      ],
      "text/plain": [
       "      Name  Age         City  Gender              Email   Join Date  \\\n",
       "0    alice   25     New York  Female  alice@example.com  01-05-2021   \n",
       "1  charlie   25        Delhi    Male    charlie@example  20-07-2021   \n",
       "2      bob   30  Los Angeles    Male    bob@example.com  15-06-2020   \n",
       "4    david   22       Mumbai    Male  david@example.com  12-11-2019   \n",
       "5    david   28        Delhi  Female     eve@domain.com  12-11-2019   \n",
       "\n",
       "      Category Age Group Age 25 or 22  \n",
       "0     New York     Minor          Yes  \n",
       "1        Delhi     Minor          Yes  \n",
       "2  Los Angeles     Adult           No  \n",
       "4       Mumbai     Minor          Yes  \n",
       "5        Delhi     Adult           No  "
      ]
     },
     "execution_count": 35,
     "metadata": {},
     "output_type": "execute_result"
    }
   ],
   "source": [
    "df"
   ]
  },
  {
   "cell_type": "code",
   "execution_count": 36,
   "id": "a44b9105-56b1-44e3-a047-b7f987670a25",
   "metadata": {},
   "outputs": [],
   "source": [
    "# But in replace not compulsary to change all the values\n",
    "\n",
    "df[\"City\"] = df[\"City\"].replace({\"Delhi\": \"New Delhi\", \"Mumbai\": \"New Mumbai\"})"
   ]
  },
  {
   "cell_type": "code",
   "execution_count": 37,
   "id": "bca3f1ef-e15c-4301-9200-cf1737c20aba",
   "metadata": {},
   "outputs": [
    {
     "data": {
      "text/html": [
       "<div>\n",
       "<style scoped>\n",
       "    .dataframe tbody tr th:only-of-type {\n",
       "        vertical-align: middle;\n",
       "    }\n",
       "\n",
       "    .dataframe tbody tr th {\n",
       "        vertical-align: top;\n",
       "    }\n",
       "\n",
       "    .dataframe thead th {\n",
       "        text-align: right;\n",
       "    }\n",
       "</style>\n",
       "<table border=\"1\" class=\"dataframe\">\n",
       "  <thead>\n",
       "    <tr style=\"text-align: right;\">\n",
       "      <th></th>\n",
       "      <th>Name</th>\n",
       "      <th>Age</th>\n",
       "      <th>City</th>\n",
       "      <th>Gender</th>\n",
       "      <th>Email</th>\n",
       "      <th>Join Date</th>\n",
       "      <th>Category</th>\n",
       "      <th>Age Group</th>\n",
       "      <th>Age 25 or 22</th>\n",
       "    </tr>\n",
       "  </thead>\n",
       "  <tbody>\n",
       "    <tr>\n",
       "      <th>0</th>\n",
       "      <td>alice</td>\n",
       "      <td>25</td>\n",
       "      <td>New York</td>\n",
       "      <td>Female</td>\n",
       "      <td>alice@example.com</td>\n",
       "      <td>01-05-2021</td>\n",
       "      <td>New York</td>\n",
       "      <td>Minor</td>\n",
       "      <td>Yes</td>\n",
       "    </tr>\n",
       "    <tr>\n",
       "      <th>1</th>\n",
       "      <td>charlie</td>\n",
       "      <td>25</td>\n",
       "      <td>New Delhi</td>\n",
       "      <td>Male</td>\n",
       "      <td>charlie@example</td>\n",
       "      <td>20-07-2021</td>\n",
       "      <td>Delhi</td>\n",
       "      <td>Minor</td>\n",
       "      <td>Yes</td>\n",
       "    </tr>\n",
       "    <tr>\n",
       "      <th>2</th>\n",
       "      <td>bob</td>\n",
       "      <td>30</td>\n",
       "      <td>Los Angeles</td>\n",
       "      <td>Male</td>\n",
       "      <td>bob@example.com</td>\n",
       "      <td>15-06-2020</td>\n",
       "      <td>Los Angeles</td>\n",
       "      <td>Adult</td>\n",
       "      <td>No</td>\n",
       "    </tr>\n",
       "    <tr>\n",
       "      <th>4</th>\n",
       "      <td>david</td>\n",
       "      <td>22</td>\n",
       "      <td>New Mumbai</td>\n",
       "      <td>Male</td>\n",
       "      <td>david@example.com</td>\n",
       "      <td>12-11-2019</td>\n",
       "      <td>Mumbai</td>\n",
       "      <td>Minor</td>\n",
       "      <td>Yes</td>\n",
       "    </tr>\n",
       "    <tr>\n",
       "      <th>5</th>\n",
       "      <td>david</td>\n",
       "      <td>28</td>\n",
       "      <td>New Delhi</td>\n",
       "      <td>Female</td>\n",
       "      <td>eve@domain.com</td>\n",
       "      <td>12-11-2019</td>\n",
       "      <td>Delhi</td>\n",
       "      <td>Adult</td>\n",
       "      <td>No</td>\n",
       "    </tr>\n",
       "  </tbody>\n",
       "</table>\n",
       "</div>"
      ],
      "text/plain": [
       "      Name  Age         City  Gender              Email   Join Date  \\\n",
       "0    alice   25     New York  Female  alice@example.com  01-05-2021   \n",
       "1  charlie   25    New Delhi    Male    charlie@example  20-07-2021   \n",
       "2      bob   30  Los Angeles    Male    bob@example.com  15-06-2020   \n",
       "4    david   22   New Mumbai    Male  david@example.com  12-11-2019   \n",
       "5    david   28    New Delhi  Female     eve@domain.com  12-11-2019   \n",
       "\n",
       "      Category Age Group Age 25 or 22  \n",
       "0     New York     Minor          Yes  \n",
       "1        Delhi     Minor          Yes  \n",
       "2  Los Angeles     Adult           No  \n",
       "4       Mumbai     Minor          Yes  \n",
       "5        Delhi     Adult           No  "
      ]
     },
     "execution_count": 37,
     "metadata": {},
     "output_type": "execute_result"
    }
   ],
   "source": [
    "df"
   ]
  }
 ],
 "metadata": {
  "kernelspec": {
   "display_name": "Python [conda env:base] *",
   "language": "python",
   "name": "conda-base-py"
  },
  "language_info": {
   "codemirror_mode": {
    "name": "ipython",
    "version": 3
   },
   "file_extension": ".py",
   "mimetype": "text/x-python",
   "name": "python",
   "nbconvert_exporter": "python",
   "pygments_lexer": "ipython3",
   "version": "3.13.5"
  }
 },
 "nbformat": 4,
 "nbformat_minor": 5
}
