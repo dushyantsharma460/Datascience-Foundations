import pandas as pd


data = [["Harry", 34],["Adam", 34],["Andrew", 24],["Jack", 42]]


data


# Dataframe with List of List (With Customise Name)

pd.DataFrame(data, columns=["Name","Age"])


dict = {"a": "Dushyant", "b": ['B'], "c": 460}


dict


# Give columns name with the help of key of dictionary
# Value of key can be list , string , number etc....

pd.DataFrame(dict)


import numpy as np


arr = np.array([[2, 4] ,[6, 8]])


df = pd.DataFrame(arr, columns=["Two","Four"])


df


# Read Excel File (Heavy File)

df = pd.read_excel("Book.xlsx")


df


# Read CSV File (Light Weight File)

df2 = pd.read_csv("deliveries.csv")


df2


# Read Json Data

df3 = pd.read_json("data.json")


df3


url = "https://raw.githubusercontent.com/mwaskom/seaborn-data/master/tips.csv"


# Read CSV Data With the help of url of data

df4 = pd.read_csv(url)


df4


# Extract first five row 
df4.head()


# Last 5 Row

df4.tail()


# Data Info about all your column

df4.info()


# Statistical Parameter of your Data

df4.describe()


# Columns

df4.columns


df4.shape


from sqlalchemy import create_engine

username = "postgres"
password = "8059056412"
host = "localhost"
port = "5432"
database = "postgres"

engine = create_engine(f"postgresql+psycopg2://{username}:{password}@{host}:{port}/{database}")

df5 = pd.read_sql("SELECT * FROM tb1", engine)
df6 = pd.read_sql("SELECT name,age FROM tb1", engine)



df5


df6
