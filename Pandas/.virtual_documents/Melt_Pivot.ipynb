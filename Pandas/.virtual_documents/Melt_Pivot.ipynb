import pandas as pd

# Sample DataFrame

data = {
'Name': ['Alice', 'Bob', 'Charlie'],
'Math': [85, 78, 92],
'Science': [90, 82, 89],
'English': [88, 85, 94]
}



df = pd.DataFrame(data)


df


df = df.melt(id_vars=["Name"], value_vars=["Math", "Science", "English"], var_name="Subject", value_name="Score")

# id_vars -> Kon sa same rakhna hai -> Name
# value_vars -> Kis column ko aggregate karna hai -> Math,Science,English
# var_name -> New aggregate column ka kya naam rakhna hai -> Subject
# value_name -> Ko score naam ka column ma rakhuga -> Score

# ["Math", "Science", "English"]  -> Subject


df


# Pivot is reverse of mely

df = df.pivot(index="Name", columns="Subject", values="Score")


df


df = df.reset_index()


df



data1 = {
    "Name": ["Alice", "Alice", "Alice", "Alice", "Bob", "Bob", "Charlie", "Charlie", "Charlie"],
    "Subject": ["Math", "Math", "Science", "English", "Math", "English", "Math", "Science", "English"],
    "Score": [85, 80, 90, 88, 78, 85, 92, 89, 94]
}

df1 = pd.DataFrame(data1)
print(df1)




# Aggregate Alice Math and Bob Math Number by mean

df1.pivot_table(index="Name", columns="Subject", values="Score", aggfunc="mean").reset_index()



# Make data frame via 2D List
data2 = [
    ["Alice", "Math", 85],
    ["Alice", "Math", 80],
    ["Alice", "Science", 90],
    ["Bob", "Math", 78],
    ["Bob", "Math", 82],
]

df2 = pd.DataFrame(data2, columns=["Name", "Subject", "Score"])
print(df2)
