import pandas as pd

# Sample DataFrame

data = {
'Name': ['Alice', 'Bob', 'Charlie'],
'Math': [85, 78, 92],
'Science': [90, 82, 89],
'English': [88, 85, 94]
}



df = pd.DataFrame(data)


df


df = df.melt(id_vars=["Name"], value_vars=["Math", "Science", "English"], var_name="Subject", value_name="Score")

# id_vars -> Kon sa same rakhna hai -> Name
# value_vars -> Kis column ko aggregate karna hai -> Math,Science,English
# var_name -> New aggregate column ka kya naam rakhna hai -> Subject
# value_name -> Ko score naam ka column ma rakhuga -> Score

# ["Math", "Science", "English"]  -> Subject


df


# Pivot is reverse of mely

df = df.pivot(index="Name", columns="Subject", values="Score")


df


df = df.reset_index()


df


# If duplicate values are present use aggregation funtion

# df.pivot_table(index="Name", columns="Subject", values="Score", aggfunc="mean")
