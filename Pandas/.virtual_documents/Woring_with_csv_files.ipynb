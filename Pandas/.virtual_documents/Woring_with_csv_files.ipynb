import pandas as pd


df = pd.read_csv("bollywood.csv")


df


df.dropna(axis=1 , how="all",inplace=True)


df


# I want that a new csv will generate and it contain only that data in which  (IMDb > 7.5)

df = df[df['IMDb'] > 7.5]


df


df.to_csv("bollywood_updated.csv")

# But it also write jumbled index in my new file  -> 
# It is becaue pandas try to stop the data lose
# But you can also avoid the indexing


# Avoid Indexing file

df.to_csv("bollywood_updated_avoid.csv", index=False)


dfj = pd.read_json("Data_me.json")


dfj

# But it don't seprate the obj variable


# To Normalize the data use json_normalize

myData = [
  {
    "name": "Dushyant Sharma",
    "age": 21,
    "isStudent": True,
    "address": {
      "city": "Sirsa",
      "state": "Haryana"
    }
  },
  {
    "name": "Mayank Verma",
    "age": 20,
    "isStudent": False,
    "address": {
      "city": "Hisar",
      "state": "Haryana"
    }
  }
]


myData


# Normalize the data

nor_json = pd.json_normalize(myData)


nor_json


nor_json.info()
