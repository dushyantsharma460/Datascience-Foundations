import pandas as pd


df = pd.DataFrame({
    "Department": ["HR", "HR", "IT", "IT", "Marketing", "Marketing", "Sales", "Sales"],
    "Team": ["A", "A", "B", "B", "C", "C", "D", "D"],
    "Gender": ["M", "F", "M", "F", "M", "F", "M", "F"],
    "Salary": [85, 90, 78, 85, 92, 88, 75, 80],
    "Age": [23, 25, 30, 22, 28, 26, 21, 27],
    "JoinDate": pd.to_datetime([
        "2020-01-10", "2020-02-15", "2021-03-20", "2021-04-10",
        "2020-05-30", "2020-06-25", "2021-07-15", "2021-08-01"
    ])
})


df


# Group by Department, then calculate average Salary for each group.

# Use of Aggregation funtion

df.groupby("Department")["Salary"].mean()


type(df.groupby("Department")["Salary"].mean())


df.groupby("Department")["Salary"].count()


df.groupby("Department")["Salary"].max()


# You can also use multiple aggregation funcion by using agg()
# Note :-   .agg()  and .aggregate()  are same

df.groupby("Team")["Salary"].agg(["mean", "max", "min"])


# You can also set the name of your aggregate column

df.groupby("Team")["Salary"].agg(
    avg_score="mean",
    high_score="max"
)


# Apply different functions to different columns

df.groupby("Team").agg({
    "Salary": "mean",
    "Age": "max"
})


# If you want to add aggregate column in your data frame use -> Transform

df["Team Avg"] = df.groupby("Team")["Salary"].transform("mean")


df


# Use filter funtion for conditional extract aggregation funtion (like where in sql)

df.groupby("Team").filter(lambda x: x["Salary"].mean() > 85)
