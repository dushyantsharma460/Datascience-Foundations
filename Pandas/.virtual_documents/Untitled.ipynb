import pandas as pd


df = pd.read_csv("bollywood.csv")


df


df.dropna(axis=1, how="all",inplace=True)


df


# Assending order

df.sort_values("Year")


# Decending Order

df.sort_values("Year",ascending=False)

# Recent film at top


# Now i want that if the year will tie then sort according to IMDb

df.sort_values(["Year", "IMDb"])


# Now I want that year come in ascending and imdb come in decending

df.sort_values(["Year", "IMDb"], ascending=[True, False])


# Now we see how reset the index 

df2 = df.sort_values(["Year", "IMDb"]).copy()


df3 = df2.copy()





df2


# df2 is jumbled data 

df2.reset_index()


# Now it come with new column index but i don't need to do this use drop attribute

df2.reset_index(drop=True, inplace=True)


df2



