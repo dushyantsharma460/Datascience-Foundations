import pandas as pd


df = pd.read_csv("bollywood.csv")


df


# Remove NaN column from my data 

df.dropna(axis=1, how='all', inplace=True)  

# If you want to remove columns with any NaN values use

# how='any'


df


# Extract Specific Column

df['Actor']


type(df['Actor'])


df[["Actor","Film"]]


type(df[["Actor","Film"]])



