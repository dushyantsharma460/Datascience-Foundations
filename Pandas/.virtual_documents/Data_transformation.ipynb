import pandas as pd


df = pd.read_csv("bollywood.csv")


df


df.dropna(axis=1, how="all",inplace=True)


df


# Assending order

df.sort_values("Year")


# Decending Order

df.sort_values("Year",ascending=False)

# Recent film at top


# Now i want that if the year will tie then sort according to IMDb

df.sort_values(["Year", "IMDb"])


# Now I want that year come in ascending and imdb come in decending

df.sort_values(["Year", "IMDb"], ascending=[True, False])


# Now we see how reset the index 

df2 = df.sort_values(["Year", "IMDb"]).copy()


df3 = df2.copy()


df3


df2


# df2 is jumbled data 

df2.reset_index()


# Now it come with new column index but i don't need to do this use drop attribute

df2.reset_index(drop=True, inplace=True)


df2


# Use of sort_index()
df3


# In the df3 index is unsorted and year is sorted now i use sort_index() fucn

df3.sort_index(inplace=True)

# Sort the index in correct order


df3


# Ranking for df3 according to IMDb

# df3["Rank"] = df3["IMDb"].rank().astype("int32")

# or
# Make rank integer by dense

df3["Rank"] = df3["IMDb"].rank(method="dense").astype("int32")


df3


# It will give rank according to small one i want to larger one

df3["Ran"] = df3["IMDb"].rank(ascending=False)


df3


# Change the order of your column
# Reorder

df3 = df3[["Rank","Ran","BoxOffice (INR Crore)","IMDb","Film","Year"]]


df3


# Rename the column Ran to Rank Decending

df3.rename(columns={"Ran": "Rank Descending"}, inplace=True)


df3


# Rename the row index

df3.rename(index={0: "row1", 1: "row2"}, inplace=True)


df3


# Rename all the column

df3.columns = ["R1", "R2", "Box","Db","Movie","DOY"]


df3


# You can also move one column to the front by using python skills

cols = ["Movie"] + [col for col in df3.columns if col != "Movie"]
df3 = df3[cols]


df3
