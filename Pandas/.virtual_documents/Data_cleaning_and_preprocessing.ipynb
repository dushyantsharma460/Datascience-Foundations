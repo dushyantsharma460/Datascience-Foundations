import pandas as pd


# Data with missing value

df = pd.read_csv("data_cleaning_sample.csv")


df


df.duplicated()


df.drop_duplicates(inplace=True)


df


# Check where the null data is present

df.isnull()


# Check per column null value

df.isnull().sum()        # Count missing per column


df.dropna()     # By default (axis = 0) for row


df.dropna(axis = 1)    # for column

# Use when your big data have large missing value in your column then you drop your whole column


# Fillna is used when missing value is less

df.fillna(0)


# If the colums contains large value like (Cr., Lakh.) if we fill 0 in this 
# It will effect the statical info like mean 
# You can use alternate option

# Option 1:-
df["Age"].fillna(df["Age"].mean())


# Option 2 :-  Forward Fill

# df.fillna(method="ffill")

df.ffill(inplace=True)


# Option 3 :- Backward Fill

# df.fillna(method="bfill")    # This syntax is deprecated soon

# Why I use inplace=True in forward because first row data is complete so it replace NaN properly 

df.bfill()


# You can also check specific pair is duplicated or not

df.duplicated(subset=["Age","Gender"])


df





# Most of the string method are supported in pandas

df["Name"].str.lower()


type(df["Name"].str.lower())


# String is not supported inplace=True
# You can use alternate option

df["Name"] = df["Name"].str.lower()


df


df["City"].str.contains("delhi", case=False) # Checks if 'delhi' is in the city name, case-insensitive.


type(df["City"].str.contains("delhi", case=False) )


df["Email"].str.split("@")[0]


type(df["Email"].str.split("@")[0])


df["Email"].str.split("@")


type(df["Email"].str.split("@"))


df["Age"] = df["Age"].astype(int)


df["Category"] = df["City"].astype("category")


df


df.info()


df["Age Group"] = df["Age"].apply(lambda x: "Adult" if x > 25 else "Minor")


# You can also do this by simple funciton

def is22or25(x):
    return "Yes" if x == 22 or x == 25 else "No"

df["Age 25 or 22"] = df["Age"].apply(is22or25)


df


# New Use Case of Map 

# Map Dictionary()

# In map it is compulsary that all the values that are in columns were also present in Dictionary so that it will replace otherwise it replacre all element with NaN

gender_map = {"M": "Male", "F": "Female", "O": "Other"}
df["Gender"] = df["Gender"].map(gender_map)


df


# But in replace not compulsary to change all the values

df["City"] = df["City"].replace({"Delhi": "New Delhi", "Mumbai": "New Mumbai"})


df
