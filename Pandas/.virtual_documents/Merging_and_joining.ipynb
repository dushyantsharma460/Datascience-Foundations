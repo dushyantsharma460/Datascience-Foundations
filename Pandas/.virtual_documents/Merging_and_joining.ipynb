import pandas as pd


employees = pd.DataFrame({
    "EmpID": [1, 2, 3],
    "Name": ["Alice", "Bob", "Charlie"],
    "DeptID": [10, 20, 30]
})


departments = pd.DataFrame({
    "DeptID": [10, 20, 40],
    "DeptName": ["HR", "Engineering", "Marketing"]
})


employees


departments


# Joining two data frame

# Common dept id from both the data frame

# By default how is inner join

pd.merge(employees,departments, on="DeptID")   # Inner Join


pd.merge(employees,departments, on="DeptID",how="left")   # Left Join


pd.merge(employees,departments, on="DeptID",how="right")   # Right Join


pd.merge(employees,departments, on="DeptID", how="outer")   # Outer Join

# All the data from both the data frame


# Merging two data frame

df1 = pd.DataFrame({"Name": ["Alice","Bob"]})
df2 = pd.DataFrame({"Name": ["Charlie","David"]})


df1


df2


# Vertical concat df1 and df2  (axis=0)

pd.concat([df1,df2])


# Horizontal concat df1 and df2 (axis=1)

pd.concat([df1,df2],axis=1)


pd.merge(df1,df2, on="Name", how="outer") 


df3 = pd.DataFrame({"Name": ["Alice","Bob"], "score": [100,200]})
df4 = pd.DataFrame({"Name": ["Charlie","David"], "age": [20,21]})


df3


df4


pd.concat([df3,df4])


# Note :- Here NaN is not come

pd.concat([df3,df4], axis=1)
