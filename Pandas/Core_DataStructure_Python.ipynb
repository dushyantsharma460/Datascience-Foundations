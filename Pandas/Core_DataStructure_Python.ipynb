{
 "cells": [
  {
   "cell_type": "code",
   "execution_count": 1,
   "id": "398f2fc1-3957-424e-94d0-8e3f372ff333",
   "metadata": {},
   "outputs": [],
   "source": [
    "import pandas as pd"
   ]
  },
  {
   "cell_type": "code",
   "execution_count": 2,
   "id": "0281adef-cca3-41c6-8c41-7004e86a654b",
   "metadata": {},
   "outputs": [],
   "source": [
    "# Simple Series 1 D\n",
    "\n",
    "s1 = pd.Series([2, 4, 6, 8, 10])"
   ]
  },
  {
   "cell_type": "code",
   "execution_count": 3,
   "id": "334fc43d-d918-4d4f-9a62-ae1198b7c28f",
   "metadata": {},
   "outputs": [
    {
     "data": {
      "text/plain": [
       "pandas.core.series.Series"
      ]
     },
     "execution_count": 3,
     "metadata": {},
     "output_type": "execute_result"
    }
   ],
   "source": [
    "type(s1)"
   ]
  },
  {
   "cell_type": "code",
   "execution_count": 4,
   "id": "cedfca43-7042-4eff-a0d4-bf9c55567a60",
   "metadata": {},
   "outputs": [
    {
     "name": "stdout",
     "output_type": "stream",
     "text": [
      "0     2\n",
      "1     4\n",
      "2     6\n",
      "3     8\n",
      "4    10\n",
      "dtype: int64\n"
     ]
    }
   ],
   "source": [
    "print(s1)"
   ]
  },
  {
   "cell_type": "code",
   "execution_count": 5,
   "id": "55665686-98f0-4581-86c9-f57def30cd98",
   "metadata": {},
   "outputs": [],
   "source": [
    "# Series with Custom Index\n",
    "s2 = pd.Series([2, 4, 5, 7, 8, 9], index=[\"Dushyant\",\"Mayank\",\"Divyansh\",\"Drishti\",\"Kriti\",\"Neeti\"])"
   ]
  },
  {
   "cell_type": "code",
   "execution_count": 6,
   "id": "e77e4f92-2414-454a-85c5-7a2032c8b1fe",
   "metadata": {},
   "outputs": [
    {
     "data": {
      "text/plain": [
       "Dushyant    2\n",
       "Mayank      4\n",
       "Divyansh    5\n",
       "Drishti     7\n",
       "Kriti       8\n",
       "Neeti       9\n",
       "dtype: int64"
      ]
     },
     "execution_count": 6,
     "metadata": {},
     "output_type": "execute_result"
    }
   ],
   "source": [
    "s2"
   ]
  },
  {
   "cell_type": "code",
   "execution_count": 7,
   "id": "3d45b331-6345-4c60-b94b-fbf30f0a5c02",
   "metadata": {},
   "outputs": [
    {
     "name": "stdout",
     "output_type": "stream",
     "text": [
      "2\n"
     ]
    }
   ],
   "source": [
    "print(s2[\"Dushyant\"])"
   ]
  },
  {
   "cell_type": "code",
   "execution_count": 8,
   "id": "17454077-21bb-429e-880a-abc1b6e45c9f",
   "metadata": {},
   "outputs": [
    {
     "name": "stdout",
     "output_type": "stream",
     "text": [
      "9\n"
     ]
    }
   ],
   "source": [
    "print(s2[\"Neeti\"])"
   ]
  },
  {
   "cell_type": "code",
   "execution_count": 9,
   "id": "b66ba949-d0de-481d-84df-1b16e50dd8b0",
   "metadata": {},
   "outputs": [],
   "source": [
    "# Data Frame 2 D (Data Structure)\n",
    "# DataFrame is like a dictionary of Series — multiple columns with labels.\n",
    "\n",
    "data1 = {\n",
    "    \"name\": [\"Dushyant\",\"Mayank\",\"Divyansh\"],\n",
    "    \"age\": [20, 19, 16],\n",
    "    \"city\": [\"Banglore\",\"Delhi\",\"Sirsa\"]\n",
    "}\n"
   ]
  },
  {
   "cell_type": "code",
   "execution_count": 10,
   "id": "e758c499-17b9-4a09-ac17-892451fe4848",
   "metadata": {},
   "outputs": [
    {
     "data": {
      "text/plain": [
       "{'name': ['Dushyant', 'Mayank', 'Divyansh'],\n",
       " 'age': [20, 19, 16],\n",
       " 'city': ['Banglore', 'Delhi', 'Sirsa']}"
      ]
     },
     "execution_count": 10,
     "metadata": {},
     "output_type": "execute_result"
    }
   ],
   "source": [
    "# Printing Simple Dictionary\n",
    "data1"
   ]
  },
  {
   "cell_type": "code",
   "execution_count": 11,
   "id": "7e6c6549-b0c5-496e-9046-88bbf869461f",
   "metadata": {},
   "outputs": [
    {
     "data": {
      "text/html": [
       "<div>\n",
       "<style scoped>\n",
       "    .dataframe tbody tr th:only-of-type {\n",
       "        vertical-align: middle;\n",
       "    }\n",
       "\n",
       "    .dataframe tbody tr th {\n",
       "        vertical-align: top;\n",
       "    }\n",
       "\n",
       "    .dataframe thead th {\n",
       "        text-align: right;\n",
       "    }\n",
       "</style>\n",
       "<table border=\"1\" class=\"dataframe\">\n",
       "  <thead>\n",
       "    <tr style=\"text-align: right;\">\n",
       "      <th></th>\n",
       "      <th>name</th>\n",
       "      <th>age</th>\n",
       "      <th>city</th>\n",
       "    </tr>\n",
       "  </thead>\n",
       "  <tbody>\n",
       "    <tr>\n",
       "      <th>0</th>\n",
       "      <td>Dushyant</td>\n",
       "      <td>20</td>\n",
       "      <td>Banglore</td>\n",
       "    </tr>\n",
       "    <tr>\n",
       "      <th>1</th>\n",
       "      <td>Mayank</td>\n",
       "      <td>19</td>\n",
       "      <td>Delhi</td>\n",
       "    </tr>\n",
       "    <tr>\n",
       "      <th>2</th>\n",
       "      <td>Divyansh</td>\n",
       "      <td>16</td>\n",
       "      <td>Sirsa</td>\n",
       "    </tr>\n",
       "  </tbody>\n",
       "</table>\n",
       "</div>"
      ],
      "text/plain": [
       "       name  age      city\n",
       "0  Dushyant   20  Banglore\n",
       "1    Mayank   19     Delhi\n",
       "2  Divyansh   16     Sirsa"
      ]
     },
     "execution_count": 11,
     "metadata": {},
     "output_type": "execute_result"
    }
   ],
   "source": [
    "pd.DataFrame(data1)"
   ]
  },
  {
   "cell_type": "code",
   "execution_count": 12,
   "id": "42279256-16e7-4ccf-a64f-3c9d9f68bb99",
   "metadata": {},
   "outputs": [],
   "source": [
    "# Create direct Data Frame\n",
    "\n",
    "df = pd.DataFrame(\n",
    "    {\n",
    "        \"name\": [\"Dushyant\",\"Mayank\",\"Divyansh\"],\n",
    "        \"age\": [20, 19, 16],\n",
    "        \"city\": [\"Banglore\",\"Delhi\",\"Sirsa\"]\n",
    "    }\n",
    ")"
   ]
  },
  {
   "cell_type": "code",
   "execution_count": 13,
   "id": "84da760d-4db2-4465-8983-49d77c4c12bd",
   "metadata": {},
   "outputs": [
    {
     "data": {
      "text/html": [
       "<div>\n",
       "<style scoped>\n",
       "    .dataframe tbody tr th:only-of-type {\n",
       "        vertical-align: middle;\n",
       "    }\n",
       "\n",
       "    .dataframe tbody tr th {\n",
       "        vertical-align: top;\n",
       "    }\n",
       "\n",
       "    .dataframe thead th {\n",
       "        text-align: right;\n",
       "    }\n",
       "</style>\n",
       "<table border=\"1\" class=\"dataframe\">\n",
       "  <thead>\n",
       "    <tr style=\"text-align: right;\">\n",
       "      <th></th>\n",
       "      <th>name</th>\n",
       "      <th>age</th>\n",
       "      <th>city</th>\n",
       "    </tr>\n",
       "  </thead>\n",
       "  <tbody>\n",
       "    <tr>\n",
       "      <th>0</th>\n",
       "      <td>Dushyant</td>\n",
       "      <td>20</td>\n",
       "      <td>Banglore</td>\n",
       "    </tr>\n",
       "    <tr>\n",
       "      <th>1</th>\n",
       "      <td>Mayank</td>\n",
       "      <td>19</td>\n",
       "      <td>Delhi</td>\n",
       "    </tr>\n",
       "    <tr>\n",
       "      <th>2</th>\n",
       "      <td>Divyansh</td>\n",
       "      <td>16</td>\n",
       "      <td>Sirsa</td>\n",
       "    </tr>\n",
       "  </tbody>\n",
       "</table>\n",
       "</div>"
      ],
      "text/plain": [
       "       name  age      city\n",
       "0  Dushyant   20  Banglore\n",
       "1    Mayank   19     Delhi\n",
       "2  Divyansh   16     Sirsa"
      ]
     },
     "execution_count": 13,
     "metadata": {},
     "output_type": "execute_result"
    }
   ],
   "source": [
    "df"
   ]
  },
  {
   "cell_type": "code",
   "execution_count": 14,
   "id": "61952bff-31be-4bc5-b4b0-6c25536dec9a",
   "metadata": {},
   "outputs": [
    {
     "data": {
      "text/plain": [
       "RangeIndex(start=0, stop=3, step=1)"
      ]
     },
     "execution_count": 14,
     "metadata": {},
     "output_type": "execute_result"
    }
   ],
   "source": [
    "df.index"
   ]
  },
  {
   "cell_type": "code",
   "execution_count": 15,
   "id": "86a8af74-d2fd-4936-9b53-38b5dd8ecca4",
   "metadata": {},
   "outputs": [
    {
     "data": {
      "text/plain": [
       "Index(['name', 'age', 'city'], dtype='object')"
      ]
     },
     "execution_count": 15,
     "metadata": {},
     "output_type": "execute_result"
    }
   ],
   "source": [
    "df.columns"
   ]
  }
 ],
 "metadata": {
  "kernelspec": {
   "display_name": "Python [conda env:base] *",
   "language": "python",
   "name": "conda-base-py"
  },
  "language_info": {
   "codemirror_mode": {
    "name": "ipython",
    "version": 3
   },
   "file_extension": ".py",
   "mimetype": "text/x-python",
   "name": "python",
   "nbconvert_exporter": "python",
   "pygments_lexer": "ipython3",
   "version": "3.13.5"
  }
 },
 "nbformat": 4,
 "nbformat_minor": 5
}
