import seaborn as sns
import numpy as np


sns.set_theme(style="darkgrid")


x = np.array([1, 4, 7, 9, 24, 64, 34, 62, 21, 46, 89, 90])


y = np.sin(x)


y



