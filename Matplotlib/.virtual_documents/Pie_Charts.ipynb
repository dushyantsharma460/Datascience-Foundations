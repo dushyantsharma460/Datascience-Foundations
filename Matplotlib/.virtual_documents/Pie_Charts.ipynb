import matplotlib.pyplot as plt

plt.style.use("ggplot")


# Basic Pie Chart

# Data
labels = ["Sachin", "Sehwag", "Kohli", "Yuvraj"]
runs = [18000, 8000, 12000, 9500]

plt.title("Career Runs of Indian Batsmen")
plt.pie(runs, labels=labels)
plt.show()


# Use of Hex color in pie chart

colors = ['#ff9999','#66b3ff','#99ff99','#ffcc99']
plt.pie(runs, labels=labels, colors=colors)
plt.show()


# New Attribute wedgeprops

plt.pie(
    runs,
    labels=labels,
    colors=colors,
    wedgeprops={'edgecolor': 'black', 'linewidth': 2, 'linestyle': '--', 'fill':False}
)
plt.show()


# Highlight the specific slice

explode = [0 ,0 ,0.1 , 0]
plt.pie(runs, labels=labels, explode=explode)
plt.title("Explode Kohli Run's")


# Giving shadow or giving 3D vibes and giving rotation to your chart

explode = [0 ,0 ,0.1 , 0]
plt.pie(runs, labels=labels, explode=explode,colors=colors,startangle=-45,shadow=True)
plt.title("Explode Kohli Run's")


# You can also see the percentage with the attribute autopct

plt.pie(
    runs,
    labels=labels,
    autopct='%1.1f%%',         # Floating point number -> 2f -> 2 precision
    startangle=180
)
plt.title("Career Run Share")
plt.show()


# Avoid to use crowded pie chart (Use pie chart when number of category is less)

# One alternate option is that if you have small data you can collect it and store it in one category(other)

# Too many categories
languages = ['Python', 'Java', 'C++', 'JavaScript', 'C#', 'Ruby', 'Go', 'Rust', 'Swift', 'PHP']
usage = [30, 20, 10, 10, 7, 5, 4, 3, 2, 1]

plt.pie(usage, labels=languages, autopct='%1.1f%%', startangle=90)
plt.title("Programming Language Usage (Crowded Example)")
plt.show()


import matplotlib.pyplot as plt

languages = ['Python', 'Java', 'C++', 'JavaScript', 'C#', 'Ruby', 'Go', 'Rust', 'Swift', 'PHP']
usage = [30, 20, 10, 10, 7, 5, 4, 3, 2, 1]

# Simple threshold to group small values
threshold = 5
others = 0
new_languages = []
new_usage = []

# The zip() function in a for loop is used to iterate over multiple iterables (like lists or tuples) in parallel, element by element.

for lang, val in zip(languages, usage):
    if val >= threshold:
        new_languages.append(lang)
        new_usage.append(val)
    else:
        others += val

new_languages.append('Others')
new_usage.append(others)

# Plot pie chart
plt.pie(new_usage, labels=new_languages, autopct='%1.1f%%', startangle=90)
plt.title("Programming Language Usage")
plt.show()

