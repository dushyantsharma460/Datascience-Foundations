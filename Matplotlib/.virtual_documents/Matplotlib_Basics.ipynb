# !pip install matplotlib


import matplotlib.pyplot as plt


plt.plot([1, 2, 3],[4, 5, 6])


# plt.show() -> like in my python file matplotlib_demo.py i am use show() method
# method is used to insure that when i execute this file the popup of plot will show

# plt.show() is used to display the plot.
# Without it, in scripts, you might not see the plot window.


years = [1990, 1992, 1994, 1996, 1998, 2000, 2003, 2005, 2007, 2010]
runs = [500, 700, 1100, 1500, 1800, 1200, 1700, 1300, 900, 1500]

plt.plot(years, runs)
plt.show()

# I plot a graph but it is not user friendly
# No marking ! No axis idea ! No context ! No label


# Make this graph User friendly with inbuilt funtion(Label)

plt.plot(years, runs)
plt.xlabel("Year")
plt.ylabel("Runs Scored")
plt.title("Sachin Tendulkar's Yearly Runs")
plt.show()


# You can also make multi lines plot

# Give label in the plot not use list in legend

kohli = [0, 0, 500, 800, 1100, 1300, 1500, 1800, 1900, 2100]
sehwag = [0, 300, 800, 1200, 1500, 1700, 1600, 1400, 1000, 0]
plt.plot(years, kohli, label="Virat Kohli")
plt.plot(years, sehwag, label="Virender Sehwag")
plt.xlabel("Year")
plt.ylabel("Runs Scored")
plt.title("Performance Comparison")
plt.legend()
plt.show()


# Without using label in the plt (Bad Practice)

kohli = [0, 0, 500, 800, 1100, 1300, 1500, 1800, 1900, 2100]
sehwag = [0, 300, 800, 1200, 1500, 1700, 1600, 1400, 1000, 0]
plt.plot(years, kohli)
plt.plot(years, sehwag)
plt.xlabel("Year")
plt.ylabel("Runs Scored")
plt.title("Performance Comparison")
plt.legend(["Virat", "Sehwag"])
plt.show()


# Format string in matplotlib

# fmt = '[marker][line][color]'

plt.plot(years, kohli, 'ro--', label="Kohli") # red circles with dashed lines
plt.plot(years, sehwag, 'g^:', label="Sehwag") # green triangles dotted
plt.legend()

# Format string is not readable but i can make it with the help of google


# Readable syntax (explicitly tell)
# Also adjust line width

plt.plot(years, kohli, color='orange', linestyle='--', linewidth="5", label="Kohli")
plt.plot(years, sehwag, color='green', linestyle='-.', label="Sehwag")
plt.plot(years, runs, color='blue', label="Tendulkar")
plt.legend()


# You can also use grid in your graphs

plt.plot(years, kohli, color='orange', linestyle='--', linewidth="5", label="Kohli")
plt.plot(years, sehwag, color='green', linestyle='-.', label="Sehwag")
plt.plot(years, runs, color='blue', label="Tendulkar")
plt.grid(True)
plt.legend()


# You can also use tight_layout(tight_layout is better work in python file)

plt.plot(years, kohli, color='orange', linestyle='--', linewidth="5", label="Kohli")
plt.plot(years, sehwag, color='green', linestyle='-.', label="Sehwag")
plt.plot(years, runs, color='blue', label="Tendulkar")
plt.grid(True)
plt.tight_layout()
plt.legend()


# You can also give bydefault style plot by choosing the available style

plt.style.available


plt.style.use("ggplot")


plt.plot(years, kohli, color='orange', linestyle='--', linewidth="5", label="Kohli")
plt.plot(years, sehwag, color='green', linestyle='-.', label="Sehwag")
plt.plot(years, runs, color='blue', label="Tendulkar")
plt.grid(True)
plt.tight_layout()
plt.legend()


plt.style.use('dark_background')


plt.plot(years, kohli, color='orange', linestyle='--', linewidth="5", label="Kohli")
plt.plot(years, sehwag, color='green', linestyle='-.', label="Sehwag")
plt.plot(years, runs, color='blue', label="Tendulkar")
plt.grid(True)
plt.tight_layout()
plt.legend()


# Comic style graph or xkcd graph (Warning not come in .py)

plt.style.use("classic")

with plt.xkcd():
    plt.figure(figsize=(10, 6))
    plt.plot(years, kohli, color='orange', linestyle='--', linewidth=5, label="Kohli")
    plt.plot(years, sehwag, color='green', linestyle='-.', linewidth=3, label="Sehwag")
    plt.plot(years, runs, color='blue', linewidth=4, label="Tendulkar")
    
    plt.xlabel("Year")
    plt.ylabel("Runs Scored")
    plt.title("Comic-Style Runs Comparison")
    
    plt.grid(True)
    plt.tight_layout()
    plt.legend()
    plt.show()


# Big data graph so confusing
# You can generate a graph with too much of data but it not readable 


import numpy as np

for i in range(50):
    plt.plot(np.random.rand(100), linewidth=1)
    
plt.title("Too Much Data Can Be Confusing!")
plt.grid(True)
plt.tight_layout()
plt.show()

# Tip :- Always start with simple plots


for i in range(2):
    plt.plot(np.random.rand(100), linewidth=1)

plt.title("2 Line")
plt.grid(True)
plt.tight_layout()
plt.show()


# Above data with one visulaisation

plt.plot(np.random.rand(100), linewidth=1)

plt.title("1 Line")
plt.grid(True)
plt.tight_layout()
plt.show()


# Final Plot graph b/w best opner

years = [2011, 2012, 2013, 2014, 2015, 2016, 2017, 2018, 2019, 2020]

kl_rahul_50s = [0, 0, 2, 4, 5, 6, 6, 7, 8, 9]

dhawan_50s = [3, 5, 6, 7, 7, 6, 5, 4, 3, 2]

rohit_50s = [2, 4, 5, 6, 7, 8, 9, 9, 10, 10]

plt.style.use('Solarize_Light2')     # By default grid in this theme

plt.plot(years,kl_rahul_50s,label="Kl 50's", color="red", linestyle="--", linewidth="3")
plt.plot(years,dhawan_50s,label="Dhawan 50's", color="orange", linestyle="-", linewidth="3")
plt.plot(years,rohit_50s,label="Rohit 50's", color="blue", linestyle="-.", linewidth="3")

plt.xlabel("Year")
plt.ylabel("50' s")
plt.title("Opener comparision")
plt.legend()
plt.show()
