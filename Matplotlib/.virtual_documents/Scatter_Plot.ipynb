# Scatter plots are used to show the relationship between two variables

import matplotlib.pyplot as plt

study_hours = [1, 2, 3, 4, 5, 6, 7, 8, 9]
exam_scores = [40, 45, 80, 55, 60, 25, 75, 85, 90]

colors = ["red" if score < 50 else "green" for score in exam_scores]
sizes = [score*2 for score in exam_scores]

plt.scatter(study_hours, exam_scores, c=colors, s=sizes)
plt.title('Study Hours vs Exam Score')

plt.xlabel('Study Hours')
plt.ylabel('Exam Score')

plt.grid(True)
plt.show()

# From graph we analyze quality study is important also


# You can also use cmap -> color map

# copy cmap name from online and it also accept c -> numeric value array according to it color will decide from colorbar

social_scores = [12, 34, 64, 23, 64, 43, 34, 74, 34]

plt.scatter(study_hours, exam_scores, c=social_scores, cmap="plasma")
plt.title('Study Hours vs Exam Score')
plt.colorbar(label="Social Behaviour")

plt.xlabel('Study Hours')
plt.ylabel('Exam Score')

plt.grid(True)
plt.show()



# Conclusion -> Second last study is good is in study as well as in Social Behaviour


# Use of anotation to give the name of point

plt.scatter(study_hours, exam_scores, c=social_scores, cmap="plasma")
plt.title('Study Hours vs Exam Score')
plt.colorbar(label="Social Behaviour")

# We can set the annotation anywhere (By adjusting study_hours and exam_scores)
for i in range(len(study_hours)):
    plt.annotate(f'S{i+1}', (study_hours[i]  + 0.1, exam_scores[i] - 1)) # 0.2 set  value to horizontal axis

plt.xlabel('Study Hours')
plt.ylabel('Exam Score')

plt.tight_layout()
plt.grid(True)
plt.show()


# Dual scatter graph

# Class A and Class B
class_a_hours = [2, 4, 6, 8]
class_a_scores = [45, 80, 90, 85]
class_b_hours = [1, 3, 5, 7, 9]
class_b_scores = [40, 50, 60, 70, 90]

plt.scatter(class_a_hours, class_a_scores, label='Class A', color='blue')
plt.scatter(class_b_hours, class_b_scores, label='Class B', color='orange')

plt.title('Scatter Plot: Class A vs Class B')
plt.xlabel('Study Hours')
plt.ylabel('Exam Score')
plt.legend()
plt.grid(True)
plt.show()

# class A student have sharp mind (study less , marks high)
