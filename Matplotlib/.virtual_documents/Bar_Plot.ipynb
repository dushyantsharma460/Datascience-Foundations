# Simple bar chart

import matplotlib.pyplot as plt
years = [1990, 1992, 1994, 1996, 1998, 2000, 2003, 2005, 2007, 2010]
runs = [500, 700, 1100, 1500, 1800, 1200, 1700, 1300, 900, 1500]
plt.bar(years, runs)
plt.xlabel("Year")
plt.ylabel("Runs Scored")
plt.title("Sachin Tendulkar's Yearly Runs")
plt.show()


import numpy as np
x = np.arange(len(years))

print(x)


# Plotting Side-by-Side Bars

sachin = [500, 700, 1100, 1500, 1800, 1200, 1700, 1300, 900, 1500]
sehwag = [0, 200, 900, 1400, 1600, 1800, 1500, 1100, 800, 0]
kohli = [0, 0, 500, 800, 1100, 1300, 1500, 1800, 1900, 2100]

# Graph include all the years

x = np.arange(len(years))       # index positions -> array

width = 0.2     # Width of bar plot pilar   

plt.bar(x - width, sachin, width=width, label="Sachin")
plt.bar(x, sehwag, width=width, label="Sehwag")
plt.bar(x + width, kohli, width=width, label="Kohli")

plt.xlabel("Year")
plt.ylabel("Runs")

plt.title("Run Comparison")

plt.xticks(x, years)     # Show actual year instead of 0,1,2,...
plt.legend()
plt.tight_layout()
plt.show()


# Horizontal bar chart

players = ["Sachin", "Sehwag", "Kohli", "Yuvraj"]
runs_5yrs = [500+700+1100+1500+1800, 0+200+900+1400+1600, 0+0+500+800+1100, 300+600+800+1100+900]

plt.barh(players, runs_5yrs, color="skyblue")
plt.xlabel("Total Runs in First 5 Years")
# plt.ylabel("Player")
plt.title("First 5-Year Performance of Indian Batsmen")
plt.tight_layout()
plt.show()


# Display the runs on pillar

players = ["Sachin", "Sehwag", "Kohli"]
runs = [1500, 1200, 1800]

plt.bar(players, runs, color="#d234eb")

# Add labels on top of bars
for i in range(len(players)):
    plt.text(i, runs[i] +20, str(runs[i]), ha='center', fontsize=10, color="red")

plt.ylabel("Runs")
plt.title("Runs Scored by Players")
plt.tight_layout()
plt.show()


# Final chart (Side by Side Graph)

years = [1990, 1991, 1992, 1993, 1994]  
sachin = [500, 700, 800, 750, 900]
kohli = [0, 0, 500, 800, 1100]
sehwag = [0, 300, 800, 1200, 1500]

x = np.arange(len(years))
width = 0.25

plt.bar(x - width, sachin, width=width ,label="Sachin Tendulkar")
plt.bar(x, kohli, width=width, label="Virat Kohli")
plt.bar(x + width, sehwag, width=width, label="Virender Sehwag")

plt.ylabel("Runs")
plt.xlabel("Year")
plt.title("Year-wise Runs: Sachin, Kohli & Sehwag")

plt.xticks(x,years)
plt.legend()
plt.show()


# Horizontal Graph with same layout 
# Differnent text function (Check)

players = ["Sachin", "Kohli", "Sehwag"]
totals = [sum(sachin), sum(kohli), sum(sehwag)]
colors = ['blue', 'orange', 'green']

plt.figure(figsize=(10, 4))     # Figure size
plt.barh(players, totals, color=colors)

# Add data labels
for i in range(len(players)):
    plt.text(totals[i] + 20, i, str(totals[i]), va='center', fontsize=10)

plt.xlabel("Total Runs")
plt.title("Total Runs in First 5 Years of Debut")
plt.tight_layout()
plt.show()
