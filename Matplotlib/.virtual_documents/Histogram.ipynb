import matplotlib.pyplot as plt


data = [50, 52, 53, 55, 57, 58, 60, 61, 62, 63,
        64, 65, 66, 67, 68, 69, 70, 71, 72, 73,
        74, 75, 76, 77, 84, 79, 80, 81, 82, 83,
        84, 85, 86, 87, 88, 89, 90, 91, 92, 93,
        94, 95, 96, 66, 98, 55, 62, 54, 59, 56]


plt.hist(data, bins=5, edgecolor="black")
plt.xlabel("Marks")
plt.ylabel("Frequency")


plt.hist(data, bins=10, edgecolor="black")
plt.xlabel("Marks")
plt.ylabel("Frequency")


# Giving Specific bins (By defining the array bin)

ages = [
    34, 28, 36, 45, 27, 27, 45, 37, 25, 35,
    25, 25, 32, 10, 12, 24, 19, 33, 20, 15,
    44, 27, 30, 15, 24, 31, 18, 33, 23, 27,
    23, 48, 29, 19, 38, 17, 32, 10, 16, 31,
    37, 31, 28, 26, 15, 22, 25, 40, 33, 12,
    33, 26, 23, 36, 40, 39, 21, 26, 33, 39,
    25, 28, 18, 18, 38, 43, 29, 40, 33, 23,
    33, 45, 29, 45, 3, 38, 30, 27, 30, 10,
    27, 33, 44, 24, 21, 24, 39, 33, 24, 35,
    30, 39, 22, 26, 26, 15, 32, 32, 30, 27
]

bins = [10, 20, 30, 40, 50, 60, 70]
plt.hist(ages, bins=bins, edgecolor='black')

plt.title('Age Distribution of YouTube Viewers')
plt.xlabel('Age Group')
plt.ylabel('Number of Viewers')

plt.grid(True, linestyle='--', alpha=0.5)
plt.show()


# Adding particular line in your histogram plot (axv line) -> Vertical reference line

plt.hist(ages, bins=bins, edgecolor='black')
plt.axvline(50, color="red", linestyle="--", linewidth=2, label="No Zone Line")
plt.axvline(20, color="green", linestyle="--", linewidth=5, label="Increasing Line")

plt.title('Age Distribution of YouTube Viewers')
plt.xlabel('Age Group')
plt.ylabel('Number of Viewers')

plt.grid(True, linestyle='--', alpha=0.5)
plt.show()
