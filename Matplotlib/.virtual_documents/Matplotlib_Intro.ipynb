# !pip install matplotlib


import matplotlib.pyplot as plt


plt.plot([1, 2, 3],[4, 5, 6])


# plt.show() -> like in my python file matplotlib_demo.py i am use show() method
# method is used to insure that when i execute this file the popup of plot will show

# plt.show() is used to display the plot.
# Without it, in scripts, you might not see the plot window.


years = [1990, 1992, 1994, 1996, 1998, 2000, 2003, 2005, 2007, 2010]
runs = [500, 700, 1100, 1500, 1800, 1200, 1700, 1300, 900, 1500]

plt.plot(years, runs)
plt.show()

# I plot a graph but it is not user friendly
# No marking ! No axis idea ! No context ! No label


# Make this graph User friendly with inbuilt funtion(Label)

plt.plot(years, runs)
plt.xlabel("Year")
plt.ylabel("Runs Scored")
plt.title("Sachin Tendulkar's Yearly Runs")
plt.show()


# You can also make multi lines plot

kohli = [0, 0, 500, 800, 1100, 1300, 1500, 1800, 1900, 2100]
sehwag = [0, 300, 800, 1200, 1500, 1700, 1600, 1400, 1000, 0]
plt.plot(years, kohli, label="Virat Kohli")
plt.plot(years, sehwag, label="Virender Sehwag")
plt.xlabel("Year")
plt.ylabel("Runs Scored")
plt.title("Performance Comparison")
plt.legend()
plt.show()



