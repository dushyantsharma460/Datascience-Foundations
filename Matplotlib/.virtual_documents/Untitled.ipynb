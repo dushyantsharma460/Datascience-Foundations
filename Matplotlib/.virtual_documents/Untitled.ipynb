import matplotlib.pyplot as plt


activities = ["Studying","Playing","Watching TV","Sleeping"]


time_spend = [3, 2, 2, 5]



