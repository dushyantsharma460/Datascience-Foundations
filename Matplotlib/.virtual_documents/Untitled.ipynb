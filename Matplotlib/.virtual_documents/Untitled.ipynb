import matplotlib.pyplot as plt

x = [1, 2, 3, 4, 5, 6, 7, 8, 9, 10, 11, 12, 13]
y1 = [i * 2 for i in x]
y2 = [i ** 2 for i in x]


# How squares and multi 2 is increase

plt.subplot(1, 2, 1) # (rows, cols, plot_no) -> means 1 row, 2 columns, and we're plotting in the 1st subplot.
plt.plot(x, y1)
plt.title('Double of x')
plt.xlabel("Number")
plt.ylabel("Square")

plt.subplot(1, 2, 2)
plt.plot(x, y2)
plt.title('Square of x')
plt.xlabel("Number")
plt.ylabel("Square")

plt.tight_layout()
plt.show()



