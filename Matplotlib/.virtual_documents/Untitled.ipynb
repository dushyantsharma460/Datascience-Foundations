import matplotlib.pyplot as plt

x = [1, 2, 3, 4, 5, 6, 7, 8, 9, 10, 11, 12, 13]
y1 = [i * 2 for i in x]
y2 = [i ** 2 for i in x]


# How squares and multi 2 is increase

plt.subplot(1, 2, 1) # (rows, cols, plot_no) -> means 1 row, 2 columns, and we're plotting in the 1st subplot.
plt.plot(x, y1)
plt.title('Double of x')
plt.xlabel("Number")
plt.ylabel("Double")

plt.subplot(1, 2, 2)
plt.plot(x, y2)
plt.title('Square of x')
plt.xlabel("Number")
plt.ylabel("Square")

plt.tight_layout()
plt.show()



y3 = [i ** 0.5 for i in x]
y4 = [10 - i for i in x]
plt.figure(figsize=(8, 6))

plt.subplot(2, 2, 1)
plt.plot(x, y1)
plt.title('x * 2')
plt.grid()

plt.subplot(2, 2, 2)
plt.plot(x, y2)
plt.title('x squared')
plt.grid()

plt.subplot(2, 2, 3)
plt.plot(x, y3)
plt.title('sqrt(x)')
plt.grid()

plt.subplot(2, 2, 4)
plt.plot(x, y4)
plt.title('10 - x')
plt.grid()

plt.tight_layout()
plt.show()


# Short Syntax (Clean Code)

fig, axs = plt.subplots(1, 2, figsize=(10, 4))

axs[0].plot(x, y1)
axs[0].set_title('x * 2')

axs[1].plot(x, y2)
axs[1].set_title('x squared')

fig.suptitle('Simple Comparison Plots', fontsize=14)
fig.tight_layout()

fig.subplots_adjust(top=0.85)      # So title doesn't overlap(0 - 1)
fig.savefig('my_plots.png')
# Save as image
plt.show()


# Using nested for loop to make 2D array

fig, axs = plt.subplots(2, 2, figsize=(8, 6))

ys = [y1, y2, y3, y4]
titles = ['x * 2', 'x squared', 'sqrt(x)', '10 - x']

for i in range(2):
    for j in range(2):
        idx = i * 2 + j       # convert two 2d array into 1D -> 0, 1, 2, 3
        axs[i, j].plot(x, ys[idx])
        axs[i, j].set_title(titles[idx])
        
plt.tight_layout()
plt.show()
