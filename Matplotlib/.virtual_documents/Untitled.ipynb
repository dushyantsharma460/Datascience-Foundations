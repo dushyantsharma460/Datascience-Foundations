# Scatter plots are used to show the relationship between two variables

import matplotlib.pyplot as plt

study_hours = [1, 2, 3, 4, 5, 6, 7, 8, 9]
exam_scores = [40, 45, 90, 55, 60, 25, 75, 85, 90]

plt.scatter(study_hours, exam_scores)
plt.title('Study Hours vs Exam Score')

plt.xlabel('Study Hours')
plt.ylabel('Exam Score')

plt.grid(True)
plt.show()

# From graph we analyze quality study is important also



