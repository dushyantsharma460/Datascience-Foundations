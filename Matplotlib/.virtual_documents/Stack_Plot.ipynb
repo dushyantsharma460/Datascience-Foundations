import matplotlib.pyplot as plt


activities = ["Studying","Playing","Watching TV","Sleeping"]


time_spend = [3, 2, 2, 5]
colors = ["blue","red","yellow","purple"]
plt.figure(figsize=(6,6))
plt.pie(time_spend, labels=activities, colors=colors,  autopct="%1.1f%%")
plt.title("After School Activities")
plt.axis('equal')       # Equal aspect ratio ensures that pie is drawn as a circle.
plt.show()


# A Stack Plot is a type of area chart that helps visualize multiple quantities over time, stacked on top of each other. It's especially useful to see how individual parts contribute to a whole over time.

# From the pie chart we can't be able to determine how much time he spend on TV and total how much time we analize 
# If you want to do this you can use multiple pie plot or use stack plot (recommended)

# This all the thing we overcome with stack plot 

days = [1, 2, 3, 4, 5, 6, 7] 
studying = [3, 4, 3, 5, 4, 3, 4]
playing = [2, 2, 1, 1, 2, 3, 2]
watching_tv = [2, 1, 2, 2, 1, 1, 1]
sleeping = [5, 5, 6, 5, 6, 5, 5]

labels = ['Studying','Playing','TV','Sleeping']
colors = ['grey','red','yellow','pink']
plt.figure(figsize=(6, 6))
plt.stackplot(days, studying, playing, watching_tv, sleeping, labels=labels, colors=colors, alpha=0.4)  # Alpha is for tranparency level
plt.legend(loc="upper left")
plt.ylabel("Hours")
plt.xticks(days,["Monday","Tuesday","Wednesday","Thursday","Friday","Saturday","Sunday"])
plt.xlabel("Days")
plt.tight_layout()
plt.grid(True)
plt.show()
